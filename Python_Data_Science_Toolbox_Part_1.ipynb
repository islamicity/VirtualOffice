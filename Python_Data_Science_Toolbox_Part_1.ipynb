{
  "cells": [
    {
      "cell_type": "markdown",
      "metadata": {
        "id": "view-in-github",
        "colab_type": "text"
      },
      "source": [
        "<a href=\"https://colab.research.google.com/github/islamicity/VirtualOffice/blob/master/Python_Data_Science_Toolbox_Part_1.ipynb\" target=\"_parent\"><img src=\"https://colab.research.google.com/assets/colab-badge.svg\" alt=\"Open In Colab\"/></a>"
      ]
    },
    {
      "cell_type": "markdown",
      "metadata": {
        "id": "s-FPmaAuefl3"
      },
      "source": [
        "***\n",
        "\n",
        "<style>\n",
        "\n",
        "h1,h2,h3,h4,h5,h6,h {\n",
        "  font-family: Futura;\n",
        "}\n",
        "\n",
        "body {\n",
        "  font-family: \"Georgia\";\n",
        "  text-align: justify;\n",
        "}\n",
        "\n",
        "p {\n",
        "  font-family: \"Georgia\";\n",
        "  color: black;\n",
        "  font-style: normal;\n",
        "}\n",
        "</style>\n"
      ]
    },
    {
      "cell_type": "markdown",
      "metadata": {
        "id": "1ot1c6DCefl7"
      },
      "source": [
        "<a href=\"https://github.com/mclix8/DataCamp/tree/master/Python%20Fundamentals/Python%20Data%20Science%20Toolbox%20(Part%201)\" target=\"_blank\"><h3>Open in Github</h3></a>\n",
        "\n",
        "<a href=\"https://rpubs.com/mclix8/PythonDataScienceToolboxPart1\" target=\"_blank\"><h3>Open in Rpubs</h3></a>\n",
        "\n",
        "<h3 class=\"course__description-title\">Course Description</h3>\n",
        "<p class=\"course__description\">It's time to push forward and develop your Python chops even further. There are tons of fantastic functions in Python and its library ecosystem. However, as a data scientist, you'll constantly need to write your own functions to solve problems that are dictated by your data. You will learn the art of function writing in this first Python Data Science Toolbox course. You'll come out of this course being able to write your very own custom functions, complete with multiple parameters and multiple return values, along with default arguments and variable-length arguments. You'll gain insight into scoping in Python and be able to write lambda functions and handle errors in your function writing practice. And you'll wrap up each chapter by using your new skills to write functions that analyze Twitter DataFrames.</p>\n",
        "\n"
      ]
    },
    {
      "cell_type": "code",
      "source": [
        "!wget \"https://raw.githubusercontent.com/mclix8/DataCamp/master/Python%20Fundamentals/Python%20Data%20Science%20Toolbox%20(Part%201)/datasets/world_ind_pop_data.csv\""
      ],
      "metadata": {
        "colab": {
          "base_uri": "https://localhost:8080/"
        },
        "id": "XFK0Bh4Ce39S",
        "outputId": "42804e62-bcc3-4883-eb0f-1e1ad63d3c15"
      },
      "execution_count": 1,
      "outputs": [
        {
          "output_type": "stream",
          "name": "stdout",
          "text": [
            "--2022-10-30 16:51:21--  https://raw.githubusercontent.com/mclix8/DataCamp/master/Python%20Fundamentals/Python%20Data%20Science%20Toolbox%20(Part%201)/datasets/world_ind_pop_data.csv\n",
            "Resolving raw.githubusercontent.com (raw.githubusercontent.com)... 185.199.108.133, 185.199.109.133, 185.199.110.133, ...\n",
            "Connecting to raw.githubusercontent.com (raw.githubusercontent.com)|185.199.108.133|:443... connected.\n",
            "HTTP request sent, awaiting response... 404 Not Found\n",
            "2022-10-30 16:51:21 ERROR 404: Not Found.\n",
            "\n"
          ]
        }
      ]
    },
    {
      "cell_type": "code",
      "source": [
        "!pip install pandas functools"
      ],
      "metadata": {
        "colab": {
          "base_uri": "https://localhost:8080/"
        },
        "id": "iuX6XzJwfFXX",
        "outputId": "c5723c2a-e210-4510-c596-afe6a009c01c"
      },
      "execution_count": 3,
      "outputs": [
        {
          "output_type": "stream",
          "name": "stdout",
          "text": [
            "Looking in indexes: https://pypi.org/simple, https://us-python.pkg.dev/colab-wheels/public/simple/\n",
            "Requirement already satisfied: pandas in /usr/local/lib/python3.7/dist-packages (1.3.5)\n",
            "Collecting functools\n",
            "  Using cached functools-0.5.tar.gz (4.9 kB)\n",
            "Requirement already satisfied: numpy>=1.17.3 in /usr/local/lib/python3.7/dist-packages (from pandas) (1.21.6)\n",
            "Requirement already satisfied: python-dateutil>=2.7.3 in /usr/local/lib/python3.7/dist-packages (from pandas) (2.8.2)\n",
            "Requirement already satisfied: pytz>=2017.3 in /usr/local/lib/python3.7/dist-packages (from pandas) (2022.5)\n",
            "Requirement already satisfied: six>=1.5 in /usr/local/lib/python3.7/dist-packages (from python-dateutil>=2.7.3->pandas) (1.15.0)\n",
            "Building wheels for collected packages: functools\n",
            "  Building wheel for functools (setup.py) ... \u001b[?25lerror\n",
            "\u001b[31m  ERROR: Failed building wheel for functools\u001b[0m\n",
            "\u001b[?25h  Running setup.py clean for functools\n",
            "Failed to build functools\n",
            "Installing collected packages: functools\n",
            "    Running setup.py install for functools ... \u001b[?25l\u001b[?25herror\n",
            "\u001b[31mERROR: Command errored out with exit status 1: /usr/bin/python3 -u -c 'import io, os, sys, setuptools, tokenize; sys.argv[0] = '\"'\"'/tmp/pip-install-wtu8jin1/functools_56b006152e3a414791bd8b14fa3fb071/setup.py'\"'\"'; __file__='\"'\"'/tmp/pip-install-wtu8jin1/functools_56b006152e3a414791bd8b14fa3fb071/setup.py'\"'\"';f = getattr(tokenize, '\"'\"'open'\"'\"', open)(__file__) if os.path.exists(__file__) else io.StringIO('\"'\"'from setuptools import setup; setup()'\"'\"');code = f.read().replace('\"'\"'\\r\\n'\"'\"', '\"'\"'\\n'\"'\"');f.close();exec(compile(code, __file__, '\"'\"'exec'\"'\"'))' install --record /tmp/pip-record-5e_vya_u/install-record.txt --single-version-externally-managed --compile --install-headers /usr/local/include/python3.7/functools Check the logs for full command output.\u001b[0m\n"
          ]
        }
      ]
    },
    {
      "cell_type": "markdown",
      "source": [
        "# Writing your own functions\n",
        "\n",
        "<p class=\"chapter__description\">\n",
        "    In this chapter, you'll learn how to write simple functions, as well as functions that accept multiple arguments and return multiple values. You'll also have the opportunity to apply these new skills to questions commonly encountered by data scientists.\n",
        "  </p>\n",
        "  \n"
      ],
      "metadata": {
        "id": "0gEYNTXLfNNG"
      }
    },
    {
      "cell_type": "markdown",
      "source": [
        "## User-defined functions\n",
        "\n",
        "\n",
        "\n"
      ],
      "metadata": {
        "id": "B_KmFndEfOjW"
      }
    },
    {
      "cell_type": "markdown",
      "source": [
        "### Strings in Python\n",
        "\n",
        "\n",
        "<div class>\n",
        "<p>In the video, you learned of another standard Python datatype, <strong>strings</strong>. Recall that these represent textual data. To assign the string <code>'DataCamp'</code> to a variable <code>company</code>, you execute:</p>\n",
        "<pre><code>company = 'DataCamp'\n",
        "</code></pre>\n",
        "<p>You've also learned to use the operations <code>+</code> and <code>\\*</code> with strings. Unlike with numeric types such as ints and floats, the <code>+</code> operator <em>concatenates</em> strings together, while the <code>\\*</code> concatenates multiple copies of a string together. In this exercise, you will use the <code>+</code> and <code>\\*</code> operations on strings to answer the question below. Execute the following code in the shell: </p>\n",
        "<pre><code>object1 = \"data\" + \"analysis\" + \"visualization\"\n",
        "object2 = 1 * 3\n",
        "object3 = \"1\" * 3\n",
        "</code></pre>\n",
        "<p>What are the values in <code>object1</code>, <code>object2</code>, and <code>object3</code>, respectively?</p>\n",
        "</div>\n",
        "\n",
        "- [ ] <code>object1</code> contains <code>\"data + analysis + visualization\"</code>, <code>object2</code> contains <code>\"1*3\"</code>, <code>object3</code> contains <code>13</code>.\n",
        "- [ ] <code>object1</code> contains <code>\"data+analysis+visualization\"</code>, <code>object2</code> contains <code>3</code>, <code>object3</code> contains <code>\"13\"</code>.\n",
        "- [x] <code>object1</code> contains <code>\"dataanalysisvisualization\"</code>, <code>object2</code> contains <code>3</code>, <code>object3</code> contains <code>\"111\"</code>.\n",
        "\n",
        "<p class=\"\">Correct!</p>\n",
        "\n"
      ],
      "metadata": {
        "id": "uwuPedhbfPlh"
      }
    },
    {
      "cell_type": "markdown",
      "source": [
        "### Recapping built-in functions\n",
        "\n",
        "\n",
        "<div class>\n",
        "<p>In the video, Hugo briefly examined the return behavior of the built-in functions <code>print()</code> and <code>str()</code>. Here, you will use both functions and examine their return values. A variable <code>x</code> has been preloaded for this exercise. Run the code below in the console. Pay close attention to the results to answer the question that follows.</p>\n",
        "<ul>\n",
        "<li>Assign <code>str(x)</code> to a variable <code>y1</code>: <code>y1 = str(x)</code>\n",
        "</li>\n",
        "<li>Assign <code>print(x)</code> to a variable <code>y2</code>: <code>y2 = print(x)</code>\n",
        "</li>\n",
        "<li>Check the types of the variables <code>x</code>, <code>y1</code>, and <code>y2</code>.</li>\n",
        "</ul>\n",
        "<p>What are the types of <code>x</code>, <code>y1</code>, and <code>y2</code>?</p>\n",
        "</div>\n"
      ],
      "metadata": {
        "id": "5Uu5yJoTfQyS"
      }
    },
    {
      "cell_type": "code",
      "execution_count": 4,
      "metadata": {
        "colab": {
          "base_uri": "https://localhost:8080/"
        },
        "id": "aTLpu6qrefl8",
        "outputId": "5c929ae7-9d21-462b-a45c-a4e968336121"
      },
      "outputs": [
        {
          "output_type": "stream",
          "name": "stdout",
          "text": [
            "4.89\n"
          ]
        },
        {
          "output_type": "execute_result",
          "data": {
            "text/plain": [
              "(float, str, NoneType)"
            ]
          },
          "metadata": {},
          "execution_count": 4
        }
      ],
      "source": [
        "x = 4.89\n",
        "y1 = str(x)\n",
        "y2 = print(x)\n",
        "\n",
        "type(x),type(y1),type(y2)\n"
      ]
    },
    {
      "cell_type": "markdown",
      "metadata": {
        "id": "0WJQj80aefl9"
      },
      "source": [
        "- [ ] They are all <code>str</code> types.\n",
        "- [ ] <code>x</code> is a <code>float</code>, <code>y1</code> is an <code>float</code>, and <code>y2</code> is a <code>str</code>.</li>\n",
        "- [x] <code>x</code> is a <code>float</code>, <code>y1</code> is a <code>str</code>, and <code>y2</code> is a <code>NoneType</code>.</li>\n",
        "- [ ] They are all <code>NoneType</code> types.</li>\n",
        "\n",
        "<p class=\"\">Correct! It is important to remember that assigning a variable <code>y2</code> to a function that prints a value but does not return a value will result in that variable <code>y2</code> being of <code>type</code> <code>NoneType</code>.</p>\n",
        "\n"
      ]
    },
    {
      "cell_type": "markdown",
      "source": [
        "### Write a simple function\n",
        "\n",
        "\n",
        "<div class>\n",
        "<p>In the last video, Hugo described the basics of how to define a function. You will now write your own function!</p>\n",
        "<p>Define a function, <code>shout()</code>, which simply prints out a string with three exclamation marks <code>'!!!'</code> at the end. The code for the <code>square()</code> function that we wrote earlier is found below. You can use it as a pattern to define <code>shout()</code>.</p>\n",
        "<pre><code>def square():\n",
        "    new_value = 4 ** 2\n",
        "    return new_value\n",
        "</code></pre>\n",
        "<p>Note that the function body is indented 4 spaces already for you. Function bodies need to be indented by a consistent number of spaces and the choice of 4 is common.</p>\n",
        "<p><em>This course touches on a lot of concepts you may have forgotten, so if you ever need a quick refresher, download the <a href=\"https://datacamp-community-prod.s3.amazonaws.com/0eff0330-e87d-4c34-88d5-73e80cb955f2\">Python for Data Science Cheat Sheet</a> and keep it handy!</em></p>\n",
        "</div>\n",
        "\n",
        "<li>Complete the function header by adding the appropriate function name, <code>shout</code>.</li>\n",
        "<li>In the function body, <strong>concatenate</strong> the string, <code>'congratulations'</code> with another string, <code>'!!!'</code>. Assign the result to <code>shout_word</code>.</li>\n",
        "<li>Print the value of <code>shout_word</code>.</li>\n"
      ],
      "metadata": {
        "id": "0wkcRPuAfSfa"
      }
    },
    {
      "cell_type": "code",
      "execution_count": null,
      "metadata": {
        "id": "gGd4R9a4efl9"
      },
      "outputs": [],
      "source": [
        "# Define the function shout\n",
        "def shout():\n",
        "    \"\"\"Print a string with three exclamation marks\"\"\"\n",
        "    # Concatenate the strings: shout_word\n",
        "    shout_word = 'congratulations' + '!!!'\n",
        "\n",
        "    # Print shout_word\n",
        "    print(shout_word)\n"
      ]
    },
    {
      "cell_type": "markdown",
      "metadata": {
        "id": "NW_wxjH7efl-"
      },
      "source": [
        "<li>Call the <code>shout</code> function.</li>\n"
      ]
    },
    {
      "cell_type": "code",
      "execution_count": null,
      "metadata": {
        "colab": {
          "base_uri": "https://localhost:8080/"
        },
        "id": "nH27DU1Refl-",
        "outputId": "101eb0a9-6155-4a2a-e8e3-e0e78c82a868"
      },
      "outputs": [
        {
          "output_type": "stream",
          "name": "stdout",
          "text": [
            "congratulations!!!\n"
          ]
        }
      ],
      "source": [
        "# Call shout\n",
        "shout()\n"
      ]
    },
    {
      "cell_type": "markdown",
      "metadata": {
        "id": "uziNC7Atefl-"
      },
      "source": [
        "<p class=\"\">Great work!</p>\n",
        "\n"
      ]
    },
    {
      "cell_type": "markdown",
      "source": [
        "### Single-parameter functions\n",
        "\n",
        "\n",
        "<div class>\n",
        "<p>Congratulations! You have successfully defined <em>and</em> called your own function! That's pretty cool.</p>\n",
        "<p>In the previous exercise, you defined and called the function <code>shout()</code>, which printed out a string concatenated with <code>'!!!'</code>.\n",
        "You will now update <code>shout()</code> by adding a <em>parameter</em> so that it can accept and process any string <em>argument</em> passed to it. Also note that <code>shout(word)</code>, the part of the <em>header</em> that specifies the function name and parameter(s), is known as the <em>signature</em> of the function. You may encounter this term in the wild!</p>\n",
        "</div>\n",
        "\n",
        "<li>Complete the function header by adding the parameter name, <code>word</code>.</li>\n",
        "<li>Assign the result of concatenating <code>word</code> with <code>'!!!'</code> to <code>shout_word</code>.</li>\n",
        "<li>Print the value of <code>shout_word</code>.</li>\n"
      ],
      "metadata": {
        "id": "lsVf_dEZfT4-"
      }
    },
    {
      "cell_type": "code",
      "execution_count": null,
      "metadata": {
        "id": "390OChdLefl-"
      },
      "outputs": [],
      "source": [
        "# Define shout with the parameter, word\n",
        "def shout(word):\n",
        "    \"\"\"Print a string with three exclamation marks\"\"\"\n",
        "    # Concatenate the strings: shout_word\n",
        "    shout_word = word + '!!!'\n",
        "\n",
        "    # Print shout_word\n",
        "    print(shout_word)\n"
      ]
    },
    {
      "cell_type": "markdown",
      "metadata": {
        "id": "YUPAZSLJefl_"
      },
      "source": [
        "<li>Call the <code>shout()</code> function, passing to it the string, <code>'congratulations'</code>.</li>\n"
      ]
    },
    {
      "cell_type": "code",
      "execution_count": null,
      "metadata": {
        "colab": {
          "base_uri": "https://localhost:8080/"
        },
        "id": "qKferzgGefl_",
        "outputId": "e46803bb-7180-4284-b5f0-f94a9a89d59a"
      },
      "outputs": [
        {
          "output_type": "stream",
          "name": "stdout",
          "text": [
            "congratulations!!!\n"
          ]
        }
      ],
      "source": [
        "# Call shout with the string 'congratulations'\n",
        "shout('congratulations')\n"
      ]
    },
    {
      "cell_type": "markdown",
      "metadata": {
        "id": "QOUSjkk2efmA"
      },
      "source": [
        "<p class=\"\">Great work!</p>\n",
        "\n"
      ]
    },
    {
      "cell_type": "markdown",
      "source": [
        "### Functions that return single values\n",
        "\n",
        "\n",
        "<div class><p>You're getting very good at this! Try your hand at another modification to the <code>shout()</code> function so that it now <em>returns</em> a single value instead of printing within the function. Recall that the <code>return</code> keyword lets you return values from functions. Parts of the function <code>shout()</code>, which you wrote earlier, are shown. Returning values is generally more desirable than printing them out because, as you saw earlier, a <code>print()</code> call assigned to a variable has type <code>NoneType</code>.</p></div>\n",
        "\n",
        "<li>In the function body, concatenate the string in <code>word</code> with <code>'!!!'</code> and assign to <code>shout_word</code>.</li>\n",
        "<li>Replace the <code>print()</code> statement with the appropriate <code>return</code> statement.</li>\n"
      ],
      "metadata": {
        "id": "NlsYU8TNfVN0"
      }
    },
    {
      "cell_type": "code",
      "execution_count": null,
      "metadata": {
        "id": "NPscHoqrefmA"
      },
      "outputs": [],
      "source": [
        "# Define shout with the parameter, word\n",
        "def shout(word):\n",
        "    \"\"\"Return a string with three exclamation marks\"\"\"\n",
        "    # Concatenate the strings: shout_word\n",
        "    shout_word = word + '!!!'\n",
        "\n",
        "    # Replace print with return\n",
        "    return shout_word\n"
      ]
    },
    {
      "cell_type": "markdown",
      "metadata": {
        "id": "rIHOiVHpefmA"
      },
      "source": [
        "<li>Call the <code>shout()</code> function, passing to it the string, <code>'congratulations'</code>, and assigning the call to the variable, <code>yell</code>.</li>\n"
      ]
    },
    {
      "cell_type": "code",
      "execution_count": null,
      "metadata": {
        "id": "2bjInIVXefmA"
      },
      "outputs": [],
      "source": [
        "# Pass 'congratulations' to shout: yell\n",
        "yell = shout('congratulations')\n"
      ]
    },
    {
      "cell_type": "markdown",
      "metadata": {
        "id": "Tji2BbJ2efmA"
      },
      "source": [
        "<li>To check if <code>yell</code> contains the value returned by <code>shout()</code>, print the value of <code>yell</code>.</li>\n"
      ]
    },
    {
      "cell_type": "code",
      "execution_count": null,
      "metadata": {
        "colab": {
          "base_uri": "https://localhost:8080/"
        },
        "id": "bxixUYzxefmA",
        "outputId": "84104500-819b-481f-f5a0-4a6224bdd0e6"
      },
      "outputs": [
        {
          "output_type": "stream",
          "name": "stdout",
          "text": [
            "congratulations!!!\n"
          ]
        }
      ],
      "source": [
        "# Print yell\n",
        "print(yell)\n"
      ]
    },
    {
      "cell_type": "markdown",
      "metadata": {
        "id": "yGiSWqxdefmB"
      },
      "source": [
        "<p class=\"\">Great work! Here it made sense to assign the output of <code>shout('congratulations')</code> to a variable <code>yell</code> because the function <code>shout</code> actually returns a value, it does not merely print one.</p>\n",
        "\n"
      ]
    },
    {
      "cell_type": "markdown",
      "source": [
        "## Multiple parameters and return values\n",
        "\n",
        "\n",
        "\n"
      ],
      "metadata": {
        "id": "qJPBL9J-fWiP"
      }
    },
    {
      "cell_type": "markdown",
      "source": [
        "### Functions with multiple parameters\n",
        "\n",
        "\n",
        "<div class><p>Hugo discussed the use of multiple parameters in defining functions in the last lecture. You are now going to use what you've learned to modify the <code>shout()</code> function further. Here, you will modify <code>shout()</code> to accept two arguments. Parts of the function <code>shout()</code>, which you wrote earlier, are shown.</p></div>\n",
        "\n",
        "<li>Modify the function header such that it accepts two parameters, <code>word1</code> and <code>word2</code>, in that order.</li>\n",
        "<li>Concatenate each of <code>word1</code> and <code>word2</code> with <code>'!!!'</code> and assign to <code>shout1</code> and <code>shout2</code>, respectively.</li>\n",
        "<li>Concatenate <code>shout1</code> and <code>shout2</code> together, in that order, and assign to <code>new_shout</code>.</li>\n"
      ],
      "metadata": {
        "id": "0iCiqW05fXNs"
      }
    },
    {
      "cell_type": "code",
      "execution_count": null,
      "metadata": {
        "id": "7TDq9QCnefmB"
      },
      "outputs": [],
      "source": [
        "# Define shout with parameters word1 and word2\n",
        "def shout(word1, word2):\n",
        "    \"\"\"Concatenate strings with three exclamation marks\"\"\"\n",
        "    # Concatenate word1 with '!!!': shout1\n",
        "    shout1 = word1 + '!!!'\n",
        "    \n",
        "    # Concatenate word2 with '!!!': shout2\n",
        "    shout2 = word2 + '!!!'\n",
        "    \n",
        "    # Concatenate shout1 with shout2: new_shout\n",
        "    new_shout = shout1 + shout2\n",
        "\n",
        "    # Return new_shout\n",
        "    return new_shout\n"
      ]
    },
    {
      "cell_type": "markdown",
      "metadata": {
        "id": "U5IB9Mr_efmB"
      },
      "source": [
        "<li>Pass the strings <code>'congratulations'</code> and <code>'you'</code>, in that order, to a call to <code>shout()</code>. Assign the return value to <code>yell</code>.</li>\n"
      ]
    },
    {
      "cell_type": "code",
      "execution_count": null,
      "metadata": {
        "colab": {
          "base_uri": "https://localhost:8080/"
        },
        "id": "9_OmxEEqefmB",
        "outputId": "281726c1-0839-425c-a696-e76e527274df"
      },
      "outputs": [
        {
          "output_type": "stream",
          "name": "stdout",
          "text": [
            "congratulations!!!you!!!\n"
          ]
        }
      ],
      "source": [
        "# Pass 'congratulations' and 'you' to shout: yell\n",
        "yell = shout('congratulations', 'you')\n",
        "\n",
        "# Print yell\n",
        "print(yell)\n"
      ]
    },
    {
      "cell_type": "markdown",
      "metadata": {
        "id": "1y4IDO_JefmB"
      },
      "source": [
        "<p class=\"\">Great work!</p>\n",
        "\n"
      ]
    },
    {
      "cell_type": "markdown",
      "source": [
        "### A brief introduction to tuples\n",
        "\n",
        "\n",
        "<div class>\n",
        "<p>Alongside learning about functions, you've also learned about tuples! Here, you will practice what you've learned about tuples: how to construct, unpack, and access tuple elements. Recall how Hugo unpacked the tuple <code>even_nums</code> in the video:</p>\n",
        "<p><code>a, b, c = even_nums</code></p>\n",
        "<p>A three-element tuple named <code>nums</code> has been preloaded for this exercise. Before completing the script, perform the following:</p>\n",
        "<ul>\n",
        "<li>Print out the value of <code>nums</code> in the IPython shell. Note the elements in the tuple.</li>\n",
        "<li>In the IPython shell, try to change the first element of <code>nums</code> to the value <em>2</em> by doing an assignment: <code>nums[0] = 2</code>. What happens?</li>\n",
        "</ul>\n",
        "</div>\n"
      ],
      "metadata": {
        "id": "Fs3L1httfYim"
      }
    },
    {
      "cell_type": "code",
      "execution_count": null,
      "metadata": {
        "id": "ieXRMva5efmB"
      },
      "outputs": [],
      "source": [
        "# edited by mclix8\n",
        "nums = (3,4,6)\n"
      ]
    },
    {
      "cell_type": "markdown",
      "metadata": {
        "id": "Sl1u1mZiefmC"
      },
      "source": [
        "\n",
        "<li>Unpack <code>nums</code> to the variables <code>num1</code>, <code>num2</code>, and <code>num3</code>.</li>\n"
      ]
    },
    {
      "cell_type": "code",
      "execution_count": null,
      "metadata": {
        "id": "3qkJylQrefmC"
      },
      "outputs": [],
      "source": [
        "# Unpack nums into num1, num2, and num3\n",
        "num1, num2, num3 = nums\n"
      ]
    },
    {
      "cell_type": "markdown",
      "metadata": {
        "id": "RMrbnuZDefmC"
      },
      "source": [
        "<li>Construct a new tuple, <code>even_nums</code> composed of the same elements in <code>nums</code>, but with the 1st element replaced with the value, <em>2</em>.</li>\n"
      ]
    },
    {
      "cell_type": "code",
      "execution_count": null,
      "metadata": {
        "id": "halsHZkiefmD"
      },
      "outputs": [],
      "source": [
        "# Construct even_nums\n",
        "even_nums = (2, num2, num3)\n"
      ]
    },
    {
      "cell_type": "markdown",
      "metadata": {
        "id": "MZM0WxpjefmD"
      },
      "source": [
        "<p class=\"\">Great work!</p>\n",
        "\n"
      ]
    },
    {
      "cell_type": "markdown",
      "source": [
        "### Functions that return multiple values\n",
        "\n",
        "\n",
        "<div class>\n",
        "<p>In the previous exercise, you constructed tuples, assigned tuples to variables, and unpacked tuples. Here you will return multiple values from a function using tuples. Let's now update our <code>shout()</code> function to return multiple values. Instead of returning just one string, we will return two strings with the string <code>!!!</code> concatenated to each. </p>\n",
        "<p>Note that the return statement <code>return x, y</code> has the same result as <code>return (x, y)</code>: the former actually packs <code>x</code> and <code>y</code> into a tuple under the hood!</p>\n",
        "</div>\n",
        "\n",
        "<li>Modify the function header such that the function name is now <code>shout_all</code>, and it accepts two parameters, <code>word1</code> and <code>word2</code>, in that order.</li>\n",
        "<li>Concatenate the string <code>'!!!'</code> to each of <code>word1</code> and <code>word2</code> and assign to <code>shout1</code> and <code>shout2</code>, respectively.</li>\n",
        "<li>Construct a tuple <code>shout_words</code>, composed of <code>shout1</code> and <code>shout2</code>.</li>\n"
      ],
      "metadata": {
        "id": "B2ebZB0yfaOv"
      }
    },
    {
      "cell_type": "code",
      "execution_count": null,
      "metadata": {
        "id": "iJr8tP3iefmD"
      },
      "outputs": [],
      "source": [
        "# Define shout_all with parameters word1 and word2\n",
        "def shout_all(word1, word2):\n",
        "    \"\"\"Return a tuple of strings\"\"\"\n",
        "    # Concatenate word1 with '!!!': shout1\n",
        "    shout1 = word1 + '!!!'\n",
        "    \n",
        "    # Concatenate word2 with '!!!': shout2\n",
        "    shout2 = word2 + '!!!'\n",
        "    \n",
        "    # Construct a tuple with shout1 and shout2: shout_words\n",
        "    shout_words = (shout1, shout2)\n",
        "\n",
        "    # Return shout_words\n",
        "    return shout_words\n"
      ]
    },
    {
      "cell_type": "markdown",
      "metadata": {
        "id": "nZc2JVqVefmD"
      },
      "source": [
        "<li>Call <code>shout_all()</code> with the strings <code>'congratulations'</code> and <code>'you'</code> and assign the result to <code>yell1</code> and <code>yell2</code> (remember, <code>shout_all()</code> returns 2 variables!).</li>\n"
      ]
    },
    {
      "cell_type": "code",
      "execution_count": null,
      "metadata": {
        "colab": {
          "base_uri": "https://localhost:8080/"
        },
        "id": "mExFm9q7efmD",
        "outputId": "8f318d00-f968-45a3-c150-53cfbbaa214c"
      },
      "outputs": [
        {
          "output_type": "stream",
          "name": "stdout",
          "text": [
            "congratulations!!!\n",
            "you!!!\n"
          ]
        }
      ],
      "source": [
        "# Pass 'congratulations' and 'you' to shout_all(): yell1, yell2\n",
        "yell1, yell2 = shout_all('congratulations', 'you')\n",
        "\n",
        "# Print yell1 and yell2\n",
        "print(yell1)\n",
        "print(yell2)\n"
      ]
    },
    {
      "cell_type": "markdown",
      "metadata": {
        "id": "INnxC9EoefmD"
      },
      "source": [
        "<p class=\"\">Great work!</p>\n",
        "\n"
      ]
    },
    {
      "cell_type": "markdown",
      "source": [
        "## Bringing it all together\n",
        "\n",
        "\n",
        "\n"
      ],
      "metadata": {
        "id": "FhXy6risfbhV"
      }
    },
    {
      "cell_type": "markdown",
      "source": [
        "### Bringing it all together (1)\n",
        "\n",
        "\n",
        "<div class>\n",
        "<p>You've got your first taste of writing your own functions in the previous exercises. You've learned how to add parameters to your own function definitions, return a value or multiple values with tuples, and how to call the functions you've defined.</p>\n",
        "<p>In this and the following exercise, you will bring together all these concepts and apply them to a simple data science problem. You will load a dataset and develop functionalities to extract simple insights from the data. </p>\n",
        "<p>For this exercise, your goal is to recall how to load a dataset into a DataFrame. The dataset contains Twitter data and you will iterate over entries in a column to build a dictionary in which the keys are the names of languages and the values are the number of tweets in the given language. The file <code>tweets.csv</code> is available in your current directory.</p>\n",
        "<p><em>Be aware that this is real data from Twitter and as such there is always a risk that it may contain profanity or other offensive content (in this exercise, and any following exercises that also use real Twitter data).</em></p>\n",
        "</div>\n",
        "\n",
        "<li>Import the pandas package with the alias <code>pd</code>.</li>\n"
      ],
      "metadata": {
        "id": "SFaPg9iWfcSK"
      }
    },
    {
      "cell_type": "code",
      "execution_count": null,
      "metadata": {
        "id": "6-PIwN5eefmD"
      },
      "outputs": [],
      "source": [
        "# Import pandas\n",
        "import pandas as pd\n"
      ]
    },
    {
      "cell_type": "markdown",
      "metadata": {
        "id": "eYNG_9WWefmE"
      },
      "source": [
        "<li>Import the file <code>'tweets.csv'</code> using the pandas function <code>read_csv()</code>. Assign the resulting DataFrame to <code>df</code>.</li>\n"
      ]
    },
    {
      "cell_type": "code",
      "execution_count": null,
      "metadata": {
        "id": "ui5wR_eWefmE"
      },
      "outputs": [],
      "source": [
        "# edited by mclix8\n",
        "# Import Twitter data as DataFrame: df\n",
        "df = pd.read_csv('https://raw.githubusercontent.com/mclix8/DataCamp/master/Python%20Fundamentals/Python%20Data%20Science%20Toolbox%20(Part%201)/datasets/tweets.csv')\n"
      ]
    },
    {
      "cell_type": "markdown",
      "metadata": {
        "id": "ySIhOSPGefmE"
      },
      "source": [
        "<li>Complete the <code>for</code> loop by iterating over <code>col</code>, the <code>'lang'</code> column in the DataFrame <code>df</code>.</li>\n",
        "<li>Complete the bodies of the <code>if-else</code> statements in the for loop:  <strong>if</strong> the key is in the dictionary <code>langs_count</code>, add <code>1</code> to the value corresponding to this key in the dictionary, <strong>else</strong> add the key to <code>langs_count</code> and set the corresponding value to <code>1</code>. Use the loop variable <code>entry</code> in your code.</li>\n"
      ]
    },
    {
      "cell_type": "code",
      "execution_count": null,
      "metadata": {
        "colab": {
          "base_uri": "https://localhost:8080/"
        },
        "id": "9PdtLx2iefmE",
        "outputId": "9a5960dc-0d2a-46ca-d525-f235a83e4409"
      },
      "outputs": [
        {
          "output_type": "stream",
          "name": "stdout",
          "text": [
            "{'en': 97, 'et': 1, 'und': 2}\n"
          ]
        }
      ],
      "source": [
        "# Initialize an empty dictionary: langs_count\n",
        "langs_count = {}\n",
        "\n",
        "# Extract column from DataFrame: col\n",
        "col = df['lang']\n",
        "\n",
        "# Iterate over lang column in DataFrame\n",
        "for entry in col:\n",
        "\n",
        "    # If the language is in langs_count, add 1\n",
        "    if entry in langs_count.keys():\n",
        "        langs_count[entry] += 1\n",
        "    # Else add the language to langs_count, set the value to 1\n",
        "    else:\n",
        "        langs_count[entry] = 1\n",
        "\n",
        "# Print the populated dictionary\n",
        "print(langs_count)\n"
      ]
    },
    {
      "cell_type": "markdown",
      "metadata": {
        "id": "3fCo2RvhefmE"
      },
      "source": [
        "<p class=\"\">Great work!</p>\n",
        "\n"
      ]
    },
    {
      "cell_type": "markdown",
      "source": [
        "### Bringing it all together (2)\n",
        "\n",
        "\n",
        "<div class>\n",
        "<p>Great job! You've now defined the functionality for iterating over entries in a column and building a dictionary with keys the names of languages and values the number of tweets in the given language. </p>\n",
        "<p>In this exercise, you will define a function with the functionality you developed in the previous exercise, return the resulting dictionary from within the function, and call the function with the appropriate arguments. </p>\n",
        "<p>For your convenience, the pandas package has been imported as <code>pd</code> and the <code>'tweets.csv'</code> file has been imported into the <code>tweets_df</code> variable.</p>\n",
        "</div>\n",
        "\n",
        "<li>Define the function <code>count_entries()</code>, which has two parameters. The first parameter is <code>df</code> for the DataFrame and the second is <code>col_name</code> for the column name.</li>\n",
        "<li>Complete the bodies of the <code>if-else</code> statements in the <code>for</code> loop: <strong>if</strong> the key is in the dictionary <code>langs_count</code>, add <code>1</code> to its current value, <strong>else</strong> add the key to <code>langs_count</code> and set its value to <code>1</code>. Use the loop variable <code>entry</code> in your code.</li>\n",
        "<li>Return the <code>langs_count</code> dictionary from inside the <code>count_entries()</code> function.</li>\n"
      ],
      "metadata": {
        "id": "juRBB2sofdrQ"
      }
    },
    {
      "cell_type": "code",
      "execution_count": null,
      "metadata": {
        "id": "R2IYfFnUefmE"
      },
      "outputs": [],
      "source": [
        "# Define count_entries()\n",
        "def count_entries(df, col_name):\n",
        "    \"\"\"Return a dictionary with counts of \n",
        "    occurrences as value for each key.\"\"\"\n",
        "\n",
        "    # Initialize an empty dictionary: langs_count\n",
        "    langs_count = {}\n",
        "    \n",
        "    # Extract column from DataFrame: col\n",
        "    col = df[col_name]\n",
        "\n",
        "    # Iterate over lang column in DataFrame\n",
        "    for entry in col:\n",
        "\n",
        "        # If the language is in langs_count, add 1\n",
        "        if entry in langs_count.keys():\n",
        "            langs_count[entry] += 1\n",
        "        # Else add the language to langs_count, set the value to 1\n",
        "        else:\n",
        "            langs_count[entry] = 1\n",
        "\n",
        "    # Return the langs_count dictionary\n",
        "    return langs_count\n"
      ]
    },
    {
      "cell_type": "markdown",
      "metadata": {
        "id": "3HsGsprfefmE"
      },
      "source": [
        "<li>Call the <code>count_entries()</code> function by passing to it <code>tweets_df</code> and the name of the column, <code>'lang'</code>. Assign the result of the call to the variable <code>result</code>.</li>\n"
      ]
    },
    {
      "cell_type": "code",
      "execution_count": null,
      "metadata": {
        "colab": {
          "base_uri": "https://localhost:8080/"
        },
        "id": "A5n5Z-bMefmE",
        "outputId": "fe88266d-dcae-474d-dc95-ca942c6e0f6f"
      },
      "outputs": [
        {
          "output_type": "stream",
          "name": "stdout",
          "text": [
            "{'en': 97, 'et': 1, 'und': 2}\n"
          ]
        }
      ],
      "source": [
        "# edited by mclix8\n",
        "tweets_df = pd.read_csv('https://raw.githubusercontent.com/mclix8/DataCamp/master/Python%20Fundamentals/Python%20Data%20Science%20Toolbox%20(Part%201)/datasets/tweets.csv')\n",
        "\n",
        "# Call count_entries(): result\n",
        "result = count_entries(tweets_df, 'lang')\n",
        "\n",
        "# Print the result\n",
        "print(result)\n"
      ]
    },
    {
      "cell_type": "markdown",
      "metadata": {
        "id": "UayCOwa2efmF"
      },
      "source": [
        "<p class=\"\">Great work!</p>\n",
        "\n"
      ]
    },
    {
      "cell_type": "markdown",
      "source": [
        "# Default arguments, variable-length arguments and scope\n",
        "\n",
        "<p class=\"chapter__description\">\n",
        "    In this chapter, you'll learn to write functions with default arguments so that the user doesn't always need to specify them, and variable-length arguments so they can pass an arbitrary number of arguments on to your functions. You'll also learn about the essential concept of scope.\n",
        "  </p>\n",
        "  \n"
      ],
      "metadata": {
        "id": "BsQ1Hf-LffHB"
      }
    },
    {
      "cell_type": "markdown",
      "source": [
        "## Scope and user-defined functions\n",
        "\n",
        "\n",
        "\n",
        "\n"
      ],
      "metadata": {
        "id": "slMc7p0FfgQm"
      }
    },
    {
      "cell_type": "markdown",
      "source": [
        "### Pop quiz on understanding scope\n",
        "\n",
        "\n",
        "<div class>\n",
        "<p>In this exercise, you will practice what you've learned about scope in functions. The variable <code>num</code> has been predefined as <code>5</code>, alongside the following function definitions:</p>\n",
        "<pre><code>def func1():\n",
        "    num = 3\n",
        "    print(num)\n",
        "\n",
        "def func2():\n",
        "    global num\n",
        "    double_num = num * 2\n",
        "    num = 6\n",
        "    print(double_num)\n",
        "</code></pre>\n",
        "<p>Try calling <code>func1()</code> and <code>func2()</code> in the shell, then answer the following questions:</p>\n",
        "<ul>\n",
        "<li>What are the values printed out when you call <code>func1()</code> and <code>func2()</code>? </li>\n",
        "<li>What is the value of <code>num</code> in the global scope after calling <code>func1()</code> and <code>func2()</code>?</li>\n",
        "</ul>\n",
        "</div>\n",
        "\n",
        "- [ ] <code>func1()</code> prints out <code>3</code>, <code>func2()</code> prints out <code>6</code>, and the value of <code>num</code> in the global scope is <code>3</code>.\n",
        "- [ ] <code>func1()</code> prints out <code>3</code>, <code>func2()</code> prints out <code>3</code>, and the value of <code>num</code> in the global scope is <code>3</code>.\n",
        "- [ ] <code>func1()</code> prints out <code>3</code>, <code>func2()</code> prints out <code>10</code>, and the value of <code>num</code> in the global scope is <code>10</code>.\n",
        "- [x] <code>func1()</code> prints out <code>3</code>, <code>func2()</code> prints out <code>10</code>, and the value of <code>num</code> in the global scope is <code>6</code>.\n",
        "\n",
        "<p class=\"\">Correct!</p>\n",
        "\n"
      ],
      "metadata": {
        "id": "Z1PSzYVYfhHd"
      }
    },
    {
      "cell_type": "markdown",
      "source": [
        "### The keyword global\n",
        "\n",
        "\n",
        "<div class><p>Let's work more on your mastery of scope. In this exercise, you will use the keyword <code>global</code> within a function to alter the value of a variable defined in the global scope.</p></div>\n",
        "\n",
        "<li>Use the keyword <code>global</code> to alter the object <code>team</code> in the global scope.</li>\n",
        "<li>Change the value of <code>team</code> in the global scope to the string <code>\"justice league\"</code>. Assign the result to <code>team</code>.</li>\n"
      ],
      "metadata": {
        "id": "xsrvYx3-fiLP"
      }
    },
    {
      "cell_type": "code",
      "execution_count": null,
      "metadata": {
        "id": "8oViVduyefmF"
      },
      "outputs": [],
      "source": [
        "# Create a string: team\n",
        "team = \"teen titans\"\n",
        "\n",
        "# Define change_team()\n",
        "def change_team():\n",
        "    \"\"\"Change the value of the global variable team.\"\"\"\n",
        "\n",
        "    # Use team in global scope\n",
        "    global team\n",
        "\n",
        "    # Change the value of team in global: team\n",
        "    team = \"justice league\"\n"
      ]
    },
    {
      "cell_type": "markdown",
      "metadata": {
        "id": "gbr-eDWBefmF"
      },
      "source": [
        "<li>Hit the Submit button to see how executing your newly defined function <code>change_team()</code> changes the value of the name <code>team</code>!</li>\n"
      ]
    },
    {
      "cell_type": "code",
      "execution_count": null,
      "metadata": {
        "colab": {
          "base_uri": "https://localhost:8080/"
        },
        "id": "DvCzLCwhefmF",
        "outputId": "001976ab-dc85-418b-91e0-b15d8bcf528f"
      },
      "outputs": [
        {
          "output_type": "stream",
          "name": "stdout",
          "text": [
            "teen titans\n",
            "justice league\n"
          ]
        }
      ],
      "source": [
        "# Print team\n",
        "print(team)\n",
        "\n",
        "# Call change_team()\n",
        "change_team()\n",
        "\n",
        "# Print team\n",
        "print(team)\n"
      ]
    },
    {
      "cell_type": "markdown",
      "metadata": {
        "id": "g6wLA0EpefmF"
      },
      "source": [
        "<p class=\"\">Great work!</p>\n",
        "\n"
      ]
    },
    {
      "cell_type": "markdown",
      "source": [
        "### Python's built-in scope\n",
        "\n",
        "\n",
        "<div class><p>Here you're going to check out Python's built-in scope, which is really just a built-in module called <code>builtins</code>. However, to query <code>builtins</code>, you'll need to <code>import builtins</code> 'because the name builtins is not itself built in…No, I’m serious!' (<a href=\"http://shop.oreilly.com/product/0636920028154.do\"><em>Learning Python</em>, 5th edition</a>, Mark Lutz).\n",
        "After executing <code>import builtins</code> in the IPython Shell, execute <code>dir(builtins)</code> to print a list of all the names in the module <code>builtins</code>. Have a look and you'll see a bunch of names that you'll recognize! Which of the following names is NOT in the module builtins?</p></div>\n",
        "\n",
        "- [ ] 'sum'\n",
        "- [ ] 'range'\n",
        "- [x] 'array'\n",
        "- [ ] 'tuple'\n",
        "\n",
        "<p class=\"\">You got it!</p>\n",
        "\n"
      ],
      "metadata": {
        "id": "UEumFlgVfjX1"
      }
    },
    {
      "cell_type": "markdown",
      "source": [
        "## Nested functions\n",
        "\n",
        "\n",
        "\n"
      ],
      "metadata": {
        "id": "V6NiMAdXfkaN"
      }
    },
    {
      "cell_type": "markdown",
      "source": [
        "### Nested Functions I\n",
        "\n",
        "\n",
        "<div class>\n",
        "<p>You've learned in the last video about nesting functions within functions. One reason why you'd like to do this is to avoid writing out the same computations within functions repeatedly. There's nothing new about defining nested functions: you simply define it as you would a regular function with <code>def</code> and embed it inside another function!</p>\n",
        "<p>In this exercise, inside a function <code>three_shouts()</code>, you will define a nested function <code>inner()</code> that concatenates a string object with <code>!!!</code>. <code>three_shouts()</code> then returns a tuple of three elements, each a string concatenated with <code>!!!</code> using <code>inner()</code>. Go for it!</p>\n",
        "</div>\n",
        "\n",
        "<li>Complete the function header of the nested function with the function name <code>inner()</code> and a single parameter <code>word</code>.</li>\n",
        "<li>Complete the return value: each element of the tuple should be a call to <code>inner()</code>, passing in the parameters from <code>three_shouts()</code> as arguments to each call.</li>\n"
      ],
      "metadata": {
        "id": "XiIAQ_ySflKC"
      }
    },
    {
      "cell_type": "code",
      "execution_count": null,
      "metadata": {
        "colab": {
          "base_uri": "https://localhost:8080/"
        },
        "id": "ncT0Q--PefmF",
        "outputId": "7d331490-618b-4433-9f5c-b130079c5ed8"
      },
      "outputs": [
        {
          "output_type": "stream",
          "name": "stdout",
          "text": [
            "('a!!!', 'b!!!', 'c!!!')\n"
          ]
        }
      ],
      "source": [
        "# Define three_shouts\n",
        "def three_shouts(word1, word2, word3):\n",
        "    \"\"\"Returns a tuple of strings\n",
        "    concatenated with '!!!'.\"\"\"\n",
        "\n",
        "    # Define inner\n",
        "    def inner(word):\n",
        "        \"\"\"Returns a string concatenated with '!!!'.\"\"\"\n",
        "        return word + '!!!'\n",
        "\n",
        "    # Return a tuple of strings\n",
        "    return (inner(word1), inner(word2), inner(word3))\n",
        "\n",
        "# Call three_shouts() and print\n",
        "print(three_shouts('a', 'b', 'c'))\n"
      ]
    },
    {
      "cell_type": "markdown",
      "metadata": {
        "id": "V2CIBxCxefmG"
      },
      "source": [
        "<p class=\"\">Great work!</p>\n",
        "\n"
      ]
    },
    {
      "cell_type": "markdown",
      "source": [
        "### Nested Functions II\n",
        "\n",
        "\n",
        "<div class>\n",
        "<p>Great job, you've just nested a function within another function. One other pretty cool reason for nesting functions is the idea of a <strong>closure</strong>. This means that the nested or inner function remembers the state of its enclosing scope when called. Thus, anything defined locally in the enclosing scope is available to the inner function even when the outer function has finished execution.</p>\n",
        "<p>Let's move forward then! In this exercise, you will complete the definition of the inner function <code>inner_echo()</code> and then call <code>echo()</code> a couple of times, each with a different argument. Complete the exercise and see what the output will be!</p>\n",
        "</div>\n",
        "\n",
        "<li>Complete the function header of the inner function with the function name <code>inner_echo()</code> and a single parameter <code>word1</code>.</li>\n",
        "<li>Complete the function <code>echo()</code> so that it returns <code>inner_echo</code>.</li>\n"
      ],
      "metadata": {
        "id": "0r-I_LHNfmTx"
      }
    },
    {
      "cell_type": "code",
      "execution_count": null,
      "metadata": {
        "id": "GhadWdt5efmG"
      },
      "outputs": [],
      "source": [
        "# Define echo\n",
        "def echo(n):\n",
        "    \"\"\"Return the inner_echo function.\"\"\"\n",
        "\n",
        "    # Define inner_echo\n",
        "    def inner_echo(word1):\n",
        "        \"\"\"Concatenate n copies of word1.\"\"\"\n",
        "        echo_word = word1 * n\n",
        "        return echo_word\n",
        "\n",
        "    # Return inner_echo\n",
        "    return inner_echo\n"
      ]
    },
    {
      "cell_type": "markdown",
      "metadata": {
        "id": "i56MOkyDefmG"
      },
      "source": [
        "<li>We have called <code>echo()</code>, passing 2 as an argument, and assigned the resulting function to <code>twice</code>. Your job is to call <code>echo()</code>, passing 3 as an argument. Assign the resulting function to <code>thrice</code>.</li>\n"
      ]
    },
    {
      "cell_type": "code",
      "execution_count": null,
      "metadata": {
        "id": "SeksM-0DefmG"
      },
      "outputs": [],
      "source": [
        "# Call echo: twice\n",
        "twice = echo(2)\n",
        "\n",
        "# Call echo: thrice\n",
        "thrice = echo(3)\n"
      ]
    },
    {
      "cell_type": "markdown",
      "metadata": {
        "id": "ouUN-zhZefmG"
      },
      "source": [
        "<li>Hit Submit to call <code>twice()</code> and <code>thrice()</code> and print the results.</li>\n"
      ]
    },
    {
      "cell_type": "code",
      "execution_count": null,
      "metadata": {
        "colab": {
          "base_uri": "https://localhost:8080/"
        },
        "id": "INpNSSNqefmG",
        "outputId": "bf43f771-6b31-4b56-f79b-67e57a7dc53b"
      },
      "outputs": [
        {
          "output_type": "stream",
          "name": "stdout",
          "text": [
            "hellohello hellohellohello\n"
          ]
        }
      ],
      "source": [
        "# Call twice() and thrice() then print\n",
        "print(twice('hello'), thrice('hello'))\n"
      ]
    },
    {
      "cell_type": "markdown",
      "metadata": {
        "id": "nUgAouJIefmG"
      },
      "source": [
        "<p class=\"\">Great work!</p>\n",
        "\n"
      ]
    },
    {
      "cell_type": "markdown",
      "source": [
        "### The keyword nonlocal and nested functions\n",
        "\n",
        "\n",
        "<div class><p>Let's once again work further on your mastery of scope! In this exercise, you will use the keyword <code>nonlocal</code> within a nested function to alter the value of a variable defined in the enclosing scope.</p></div>\n",
        "\n",
        "<li>Assign to <code>echo_word</code> the string <code>word</code>, concatenated with itself.</li>\n",
        "<li>Use the keyword <code>nonlocal</code> to alter the value of <code>echo_word</code> in the enclosing scope.</li>\n",
        "<li>Alter <code>echo_word</code> to <code>echo_word</code> concatenated with '!!!'.</li>\n"
      ],
      "metadata": {
        "id": "0Xb2eMVNfntJ"
      }
    },
    {
      "cell_type": "code",
      "execution_count": null,
      "metadata": {
        "id": "LiIxxIZgefmH"
      },
      "outputs": [],
      "source": [
        "# Define echo_shout()\n",
        "def echo_shout(word):\n",
        "    \"\"\"Change the value of a nonlocal variable\"\"\"\n",
        "    \n",
        "    # Concatenate word with itself: echo_word\n",
        "    echo_word = word*2\n",
        "    \n",
        "    # Print echo_word\n",
        "    print(echo_word)\n",
        "    \n",
        "    # Define inner function shout()\n",
        "    def shout():\n",
        "        \"\"\"Alter a variable in the enclosing scope\"\"\"\n",
        "        \n",
        "        # Use echo_word in nonlocal scope\n",
        "        nonlocal echo_word\n",
        "        \n",
        "        # Change echo_word to echo_word concatenated with '!!!'\n",
        "        echo_word = echo_word + '!!!'\n",
        "    \n",
        "    # Call function shout()\n",
        "    shout()\n",
        "    \n",
        "    # Print echo_word\n",
        "    print(echo_word)\n"
      ]
    },
    {
      "cell_type": "markdown",
      "metadata": {
        "id": "lmDlvgIrefmH"
      },
      "source": [
        "<li>Call the function <code>echo_shout()</code>,  passing it a single argument 'hello'.</li>\n"
      ]
    },
    {
      "cell_type": "code",
      "execution_count": null,
      "metadata": {
        "colab": {
          "base_uri": "https://localhost:8080/"
        },
        "id": "6Q9-t0_PefmH",
        "outputId": "dc4ba990-dd61-433a-91db-0ff306307d84"
      },
      "outputs": [
        {
          "output_type": "stream",
          "name": "stdout",
          "text": [
            "hellohello\n",
            "hellohello!!!\n"
          ]
        }
      ],
      "source": [
        "# Call function echo_shout() with argument 'hello'\n",
        "echo_shout('hello')\n"
      ]
    },
    {
      "cell_type": "markdown",
      "metadata": {
        "id": "guKyQUGCefmH"
      },
      "source": [
        "<p class=\"\">Quite something, that <code>nonlocal</code> keyword!</p>\n",
        "\n"
      ]
    },
    {
      "cell_type": "markdown",
      "source": [
        "## Default and flexible arguments\n",
        "\n",
        "\n",
        "\n"
      ],
      "metadata": {
        "id": "f1Qa8O44fo5A"
      }
    },
    {
      "cell_type": "markdown",
      "source": [
        "### Functions with one default argument\n",
        "\n",
        "\n",
        "<div class><p>In the previous chapter, you've learned to define functions with more than one parameter and then calling those functions by passing the required number of arguments. In the last video, Hugo built on this idea by showing you how to define functions with default arguments. You will practice that skill in this exercise by writing a function that uses a default argument and then calling the function a couple of times.</p></div>\n",
        "\n",
        "<li>Complete the function header with the function name <code>shout_echo</code>. It accepts an argument <code>word1</code> and a default argument <code>echo</code> with default value <code>1</code>, in that order.</li>\n",
        "<li>Use the <code>*</code> operator to concatenate <code>echo</code> copies of <code>word1</code>. Assign the result to <code>echo_word</code>.</li>\n"
      ],
      "metadata": {
        "id": "jru8Ti_Lfpnu"
      }
    },
    {
      "cell_type": "code",
      "execution_count": null,
      "metadata": {
        "id": "JiRy2a2gefmH"
      },
      "outputs": [],
      "source": [
        "# Define shout_echo\n",
        "def shout_echo(word1, echo=1):\n",
        "    \"\"\"Concatenate echo copies of word1 and three\n",
        "     exclamation marks at the end of the string.\"\"\"\n",
        "\n",
        "    # Concatenate echo copies of word1 using *: echo_word\n",
        "    echo_word = word1 * echo\n",
        "\n",
        "    # Concatenate '!!!' to echo_word: shout_word\n",
        "    shout_word = echo_word + '!!!'\n",
        "\n",
        "    # Return shout_word\n",
        "    return shout_word\n"
      ]
    },
    {
      "cell_type": "markdown",
      "metadata": {
        "id": "G5Q9QF49efmH"
      },
      "source": [
        "<li>Call <code>shout_echo()</code> with just the string, <code>\"Hey\"</code>. Assign the result to <code>no_echo</code>.</li>\n"
      ]
    },
    {
      "cell_type": "code",
      "execution_count": null,
      "metadata": {
        "id": "SGTRx8mkefmH"
      },
      "outputs": [],
      "source": [
        "# Call shout_echo() with \"Hey\": no_echo\n",
        "no_echo = shout_echo(\"Hey\")\n"
      ]
    },
    {
      "cell_type": "markdown",
      "metadata": {
        "id": "Iu596WTUefmH"
      },
      "source": [
        "<li>Call <code>shout_echo()</code> with the string <code>\"Hey\"</code> and the value <code>5</code> for the default argument, <code>echo</code>. Assign the result to <code>with_echo</code>.</li>\n"
      ]
    },
    {
      "cell_type": "code",
      "execution_count": null,
      "metadata": {
        "colab": {
          "base_uri": "https://localhost:8080/"
        },
        "id": "9hRcUUCvefmH",
        "outputId": "742278f6-4c90-4cab-c026-3316883f2264"
      },
      "outputs": [
        {
          "output_type": "stream",
          "name": "stdout",
          "text": [
            "Hey!!!\n",
            "HeyHeyHeyHeyHey!!!\n"
          ]
        }
      ],
      "source": [
        "# Call shout_echo() with \"Hey\" and echo=5: with_echo\n",
        "with_echo = shout_echo(\"Hey\", echo=5)\n",
        "\n",
        "# Print no_echo and with_echo\n",
        "print(no_echo)\n",
        "print(with_echo)\n"
      ]
    },
    {
      "cell_type": "markdown",
      "metadata": {
        "id": "F5xgBDPhefmI"
      },
      "source": [
        "<p class=\"\">Great work!</p>\n",
        "\n"
      ]
    },
    {
      "cell_type": "markdown",
      "source": [
        "### Functions with multiple default arguments\n",
        "\n",
        "\n",
        "<div class>\n",
        "<p>You've now defined a function that uses a default argument - don't stop there just yet! You will now try your hand at defining a function with more than one default argument and then calling this function in various ways. </p>\n",
        "<p>After defining the function, you will call it by supplying values to <em>all</em> the default arguments of the function. Additionally, you will call the function by not passing a value to one of the default arguments - see how that changes the output of your function!</p>\n",
        "</div>\n",
        "\n",
        "<li>Complete the function header with the function name <code>shout_echo</code>. It accepts an argument <code>word1</code>, a default argument <code>echo</code> with default value <code>1</code> and a default argument <code>intense</code> with default value <code>False</code>, in that order.</li>\n",
        "<li>In the body of the <code>if</code> statement, make the string object <code>echo_word</code> upper case by applying the method <code>.upper()</code> on it.</li>\n"
      ],
      "metadata": {
        "id": "dgRhzXmRfq9f"
      }
    },
    {
      "cell_type": "code",
      "execution_count": null,
      "metadata": {
        "id": "CG7imBwdefmI"
      },
      "outputs": [],
      "source": [
        "# Define shout_echo\n",
        "def shout_echo(word1, echo=1, intense=False):\n",
        "    \"\"\"Concatenate echo copies of word1 and three\n",
        "    exclamation marks at the end of the string.\"\"\"\n",
        "\n",
        "    # Concatenate echo copies of word1 using *: echo_word\n",
        "    echo_word = word1 * echo\n",
        "\n",
        "    # Make echo_word uppercase if intense is True\n",
        "    if intense is True:\n",
        "        # Make uppercase and concatenate '!!!': echo_word_new\n",
        "        echo_word_new = echo_word.upper() + '!!!'\n",
        "    else:\n",
        "        # Concatenate '!!!' to echo_word: echo_word_new\n",
        "        echo_word_new = echo_word + '!!!'\n",
        "\n",
        "    # Return echo_word_new\n",
        "    return echo_word_new\n"
      ]
    },
    {
      "cell_type": "markdown",
      "metadata": {
        "id": "ap8gxyvKefmI"
      },
      "source": [
        "<li>Call <code>shout_echo()</code> with the string, <code>\"Hey\"</code>, the value <code>5</code> for <code>echo</code> and the value <code>True</code> for <code>intense</code>. Assign the result to <code>with_big_echo</code>.</li>\n"
      ]
    },
    {
      "cell_type": "code",
      "execution_count": null,
      "metadata": {
        "id": "Q7-ycuGcefmI"
      },
      "outputs": [],
      "source": [
        "# Call shout_echo() with \"Hey\", echo=5 and intense=True: with_big_echo\n",
        "with_big_echo = shout_echo(\"Hey\", echo=5, intense=True)\n"
      ]
    },
    {
      "cell_type": "markdown",
      "metadata": {
        "id": "ZLLZFkPhefmI"
      },
      "source": [
        "<li>Call <code>shout_echo()</code> with the string <code>\"Hey\"</code> and the value <code>True</code> for <code>intense</code>. Assign the result to <code>big_no_echo</code>.</li>\n"
      ]
    },
    {
      "cell_type": "code",
      "execution_count": null,
      "metadata": {
        "colab": {
          "base_uri": "https://localhost:8080/"
        },
        "id": "2yUGe4OTefmI",
        "outputId": "bf353491-2cb2-4f96-aaab-659c1b5891e2"
      },
      "outputs": [
        {
          "output_type": "stream",
          "name": "stdout",
          "text": [
            "HEYHEYHEYHEYHEY!!!\n",
            "HEY!!!\n"
          ]
        }
      ],
      "source": [
        "# Call shout_echo() with \"Hey\" and intense=True: big_no_echo\n",
        "big_no_echo = shout_echo(\"Hey\", intense=True)\n",
        "\n",
        "# Print with_big_echo and big_no_echo\n",
        "print(with_big_echo)\n",
        "print(big_no_echo)\n"
      ]
    },
    {
      "cell_type": "markdown",
      "metadata": {
        "id": "kEcAZwZkefmI"
      },
      "source": [
        "<p class=\"\">Great work!</p>\n",
        "\n"
      ]
    },
    {
      "cell_type": "markdown",
      "source": [
        "### Functions with variable-length arguments (\\*args)\n",
        "\n",
        "\n",
        "<div class>\n",
        "<p>Flexible arguments enable you to pass a variable number of arguments to a function. In this exercise, you will practice defining a function that accepts a variable number of string arguments.</p>\n",
        "<p>The function you will define is <code>gibberish()</code> which can accept a variable number of string values. Its return value is a single string composed of all the string arguments concatenated together in the order they were passed to the function call. You will call the function with a single string argument and see how the output changes with another call using more than one string argument. Recall from the previous video that, within the function definition, <code>args</code> is a tuple.</p>\n",
        "</div>\n",
        "\n",
        "<li>Complete the function header with the function name <code>gibberish</code>. It accepts a single flexible argument <code>\\*args</code>.</li>\n",
        "<li>Initialize a variable <code>hodgepodge</code> to an empty string.</li>\n",
        "<li>Return the variable <code>hodgepodge</code> at the end of the function body.</li>\n"
      ],
      "metadata": {
        "id": "ooWWFhr3fsRJ"
      }
    },
    {
      "cell_type": "code",
      "execution_count": null,
      "metadata": {
        "id": "x6huttT9efmI"
      },
      "outputs": [],
      "source": [
        "# Define gibberish\n",
        "def gibberish(*args):\n",
        "    \"\"\"Concatenate strings in *args together.\"\"\"\n",
        "\n",
        "    # Initialize an empty string: hodgepodge\n",
        "    hodgepodge = ''\n",
        "\n",
        "    # Concatenate the strings in args\n",
        "    for word in args:\n",
        "        hodgepodge += word\n",
        "\n",
        "    # Return hodgepodge\n",
        "    return hodgepodge\n"
      ]
    },
    {
      "cell_type": "markdown",
      "metadata": {
        "id": "77cPgNRBefmI"
      },
      "source": [
        "<li>Call <code>gibberish()</code> with the single string, <code>\"luke\"</code>. Assign the result to <code>one_word</code>.</li>\n"
      ]
    },
    {
      "cell_type": "code",
      "execution_count": null,
      "metadata": {
        "id": "Ez4gtF7befmJ"
      },
      "outputs": [],
      "source": [
        "# Call gibberish() with one string: one_word\n",
        "one_word = gibberish(\"luke\")\n"
      ]
    },
    {
      "cell_type": "markdown",
      "metadata": {
        "id": "am3P3-C1efmJ"
      },
      "source": [
        "<li>Hit the Submit button to call <code>gibberish()</code> with multiple arguments and to print the value to the Shell.</li>\n"
      ]
    },
    {
      "cell_type": "code",
      "execution_count": null,
      "metadata": {
        "colab": {
          "base_uri": "https://localhost:8080/"
        },
        "id": "v8evGiRmefmJ",
        "outputId": "b53de2e6-404b-4764-bafd-334929ca4112"
      },
      "outputs": [
        {
          "output_type": "stream",
          "name": "stdout",
          "text": [
            "luke\n",
            "lukeleiahanobidarth\n"
          ]
        }
      ],
      "source": [
        "# Call gibberish() with five strings: many_words\n",
        "many_words = gibberish(\"luke\", \"leia\", \"han\", \"obi\", \"darth\")\n",
        "\n",
        "# Print one_word and many_words\n",
        "print(one_word)\n",
        "print(many_words)\n"
      ]
    },
    {
      "cell_type": "markdown",
      "metadata": {
        "id": "m_uk5iStefmJ"
      },
      "source": [
        "<p class=\"\">Great work!</p>\n",
        "\n"
      ]
    },
    {
      "cell_type": "markdown",
      "source": [
        "### Functions with variable-length keyword arguments (\\*\\*kwargs)\n",
        "\n",
        "\n",
        "<div class>\n",
        "<p>Let's push further on what you've learned about flexible arguments - you've used <code>*args</code>, you're now going to use <code>**kwargs</code>! What makes <code>**kwargs</code> different is that it allows you to pass a variable number of <em>keyword arguments</em> to functions. Recall from the previous video that, within the function definition, <code>kwargs</code> is a dictionary.</p>\n",
        "<p>To understand this idea better, you're going to use <code>**kwargs</code> in this exercise to define a function that accepts a variable number of keyword arguments. The function simulates a simple status report system that prints out the status of a character in a movie.</p>\n",
        "</div>\n",
        "\n",
        "<li>Complete the function header with the function name <code>report_status</code>. It accepts a single flexible argument <code>**kwargs</code>.</li>\n",
        "<li>Iterate over the key-value pairs of <code>kwargs</code> to print out the keys and values, separated by a colon ':'.</li>\n"
      ],
      "metadata": {
        "id": "mJdb8H99ftqd"
      }
    },
    {
      "cell_type": "code",
      "execution_count": null,
      "metadata": {
        "id": "Lij4S33aefmJ"
      },
      "outputs": [],
      "source": [
        "# Define report_status\n",
        "def report_status(**kwargs):\n",
        "    \"\"\"Print out the status of a movie character.\"\"\"\n",
        "\n",
        "    print(\"\\nBEGIN: REPORT\\n\")\n",
        "\n",
        "    # Iterate over the key-value pairs of kwargs\n",
        "    for key, value in kwargs.items():\n",
        "        # Print out the keys and values, separated by a colon ':'\n",
        "        print(key + \": \" + value)\n",
        "\n",
        "    print(\"\\nEND REPORT\")\n"
      ]
    },
    {
      "cell_type": "markdown",
      "metadata": {
        "id": "QOWPQgNIefmJ"
      },
      "source": [
        "<li>In the first call to <code>report_status()</code>, pass the following keyword-value pairs: <code>name=\"luke\"</code>, <code>affiliation=\"jedi\"</code> and <code>status=\"missing\"</code>.</li>\n"
      ]
    },
    {
      "cell_type": "code",
      "execution_count": null,
      "metadata": {
        "colab": {
          "base_uri": "https://localhost:8080/"
        },
        "id": "wbkQ-113efmJ",
        "outputId": "a7806b7c-c685-4dbd-acfa-4f8f1b11b80a"
      },
      "outputs": [
        {
          "output_type": "stream",
          "name": "stdout",
          "text": [
            "\n",
            "BEGIN: REPORT\n",
            "\n",
            "name: luke\n",
            "affiliation: jedi\n",
            "status: missing\n",
            "\n",
            "END REPORT\n"
          ]
        }
      ],
      "source": [
        "# First call to report_status()\n",
        "report_status(name=\"luke\", affiliation=\"jedi\", status=\"missing\")\n"
      ]
    },
    {
      "cell_type": "markdown",
      "metadata": {
        "id": "99BUr5_PefmJ"
      },
      "source": [
        "<li>In the second call to <code>report_status()</code>, pass the following keyword-value pairs: <code>name=\"anakin\"</code>, <code>affiliation=\"sith lord\"</code> and <code>status=\"deceased\"</code>.</li>\n"
      ]
    },
    {
      "cell_type": "code",
      "execution_count": null,
      "metadata": {
        "colab": {
          "base_uri": "https://localhost:8080/"
        },
        "id": "F_dNQvwEefmK",
        "outputId": "cd086657-ad65-49b3-8b7c-f746810bca60"
      },
      "outputs": [
        {
          "output_type": "stream",
          "name": "stdout",
          "text": [
            "\n",
            "BEGIN: REPORT\n",
            "\n",
            "name: anakin\n",
            "affiliation: sith lord\n",
            "status: deceased\n",
            "\n",
            "END REPORT\n"
          ]
        }
      ],
      "source": [
        "# Second call to report_status()\n",
        "report_status(name=\"anakin\", affiliation=\"sith lord\", status=\"deceased\")\n"
      ]
    },
    {
      "cell_type": "markdown",
      "metadata": {
        "id": "sqFkWlELefmK"
      },
      "source": [
        "<div class=\"dc-completed__message\"><p class=\"\">Great work!</p></div>\n",
        "\n"
      ]
    },
    {
      "cell_type": "markdown",
      "source": [
        "## Bringing it all together\n",
        "\n",
        "\n",
        "\n"
      ],
      "metadata": {
        "id": "SRavNkDkgHi5"
      }
    },
    {
      "cell_type": "markdown",
      "source": [
        "### Bringing it all together (1)\n",
        "\n",
        "\n",
        "<div class>\n",
        "<p>Recall the <em>Bringing it all together</em> exercise in the previous chapter where you did a simple Twitter analysis by developing a function that counts how many tweets are in certain languages. The output of your function was a dictionary that had the language as the <em>keys</em> and the counts of tweets in that language as the <em>value</em>.</p>\n",
        "<p>In this exercise, we will generalize the Twitter language analysis that you did in the previous chapter. You will do that by including a <strong>default argument</strong> that takes a column name. </p>\n",
        "<p>For your convenience, <code>pandas</code> has been imported as <code>pd</code> and the <code>'tweets.csv'</code> file has been imported into the DataFrame <code>tweets_df</code>. Parts of the code from your previous work are also provided.</p>\n",
        "</div>\n",
        "\n",
        "<li>Complete the function header by supplying the parameter for a DataFrame <code>df</code> and the parameter <code>col_name</code> with a default value of <code>'lang'</code> for the DataFrame column name.</li>\n"
      ],
      "metadata": {
        "id": "gJb6HdMbgIMQ"
      }
    },
    {
      "cell_type": "code",
      "execution_count": null,
      "metadata": {
        "id": "XAYfG5UFefmK"
      },
      "outputs": [],
      "source": [
        "# Define count_entries()\n",
        "def count_entries(df, col_name='lang'):\n",
        "    \"\"\"Return a dictionary with counts of\n",
        "    occurrences as value for each key.\"\"\"\n",
        "\n",
        "    # Initialize an empty dictionary: cols_count\n",
        "    cols_count = {}\n",
        "    \n",
        "    # Extract column from DataFrame: col\n",
        "    col = df[col_name]\n",
        "\n",
        "    # Iterate over the column in DataFrame\n",
        "    for entry in col:\n",
        "\n",
        "        # If entry is in cols_count, add 1\n",
        "        if entry in cols_count.keys():\n",
        "            cols_count[entry] += 1\n",
        "\n",
        "        # Else add the entry to cols_count, set the value to 1\n",
        "        else:\n",
        "            cols_count[entry] = 1\n",
        "\n",
        "    # Return the cols_count dictionary\n",
        "    return cols_count\n"
      ]
    },
    {
      "cell_type": "markdown",
      "metadata": {
        "id": "oEMAlayAefmK"
      },
      "source": [
        "<li>Call <code>count_entries()</code> by passing the <code>tweets_df</code> DataFrame and the column name <code>'lang'</code>. Assign the result to <code>result1</code>. Note that since <code>'lang'</code> is the default value of the <code>col_name</code> parameter, you don't have to specify it here.</li>\n"
      ]
    },
    {
      "cell_type": "code",
      "execution_count": null,
      "metadata": {
        "id": "nkHWjruwefmK"
      },
      "outputs": [],
      "source": [
        "# Call count_entries(): result1\n",
        "result1 = count_entries(tweets_df, col_name='lang')\n"
      ]
    },
    {
      "cell_type": "markdown",
      "metadata": {
        "id": "taug5SlFefmK"
      },
      "source": [
        "<li>Call <code>count_entries()</code> by passing the <code>tweets_df</code> DataFrame and the column name <code>'source'</code>. Assign the result to <code>result2</code>.</li>\n"
      ]
    },
    {
      "cell_type": "code",
      "execution_count": null,
      "metadata": {
        "colab": {
          "base_uri": "https://localhost:8080/"
        },
        "id": "KfW1lzvnefmK",
        "outputId": "d15675f1-3f97-4632-b530-6694ea090428"
      },
      "outputs": [
        {
          "output_type": "stream",
          "name": "stdout",
          "text": [
            "{'en': 97, 'et': 1, 'und': 2}\n",
            "{'<a href=\"http://twitter.com\" rel=\"nofollow\">Twitter Web Client</a>': 24, '<a href=\"http://www.facebook.com/twitter\" rel=\"nofollow\">Facebook</a>': 1, '<a href=\"http://twitter.com/download/android\" rel=\"nofollow\">Twitter for Android</a>': 26, '<a href=\"http://twitter.com/download/iphone\" rel=\"nofollow\">Twitter for iPhone</a>': 33, '<a href=\"http://www.twitter.com\" rel=\"nofollow\">Twitter for BlackBerry</a>': 2, '<a href=\"http://www.google.com/\" rel=\"nofollow\">Google</a>': 2, '<a href=\"http://twitter.com/#!/download/ipad\" rel=\"nofollow\">Twitter for iPad</a>': 6, '<a href=\"http://linkis.com\" rel=\"nofollow\">Linkis.com</a>': 2, '<a href=\"http://rutracker.org/forum/viewforum.php?f=93\" rel=\"nofollow\">newzlasz</a>': 2, '<a href=\"http://ifttt.com\" rel=\"nofollow\">IFTTT</a>': 1, '<a href=\"http://www.myplume.com/\" rel=\"nofollow\">Plume\\xa0for\\xa0Android</a>': 1}\n"
          ]
        }
      ],
      "source": [
        "# Call count_entries(): result2\n",
        "result2 = count_entries(tweets_df, col_name='source')\n",
        "\n",
        "# Print result1 and result2\n",
        "print(result1)\n",
        "print(result2)\n"
      ]
    },
    {
      "cell_type": "markdown",
      "metadata": {
        "id": "iSKTLcJmefmL"
      },
      "source": [
        "<p class=\"\">Great work!</p>\n",
        "\n"
      ]
    },
    {
      "cell_type": "markdown",
      "source": [
        "### Bringing it all together (2)\n",
        "\n",
        "\n",
        "<div class>\n",
        "<p>Wow, you've just generalized your Twitter language analysis that you did in the previous chapter to include a default argument for the column name. You're now going to generalize this function one step further by allowing the user to pass it a flexible argument, that is, in this case, as many column names as the user would like!</p>\n",
        "<p>Once again, for your convenience, <code>pandas</code> has been imported as <code>pd</code> and the <code>'tweets.csv'</code> file has been imported into the DataFrame <code>tweets_df</code>. Parts of the code from your previous work are also provided.</p>\n",
        "</div>\n",
        "\n",
        "<li>Complete the function header by supplying the parameter for the DataFrame <code>df</code> and the flexible argument <code>*args</code>.</li>\n",
        "<li>Complete the <code>for</code> loop within the function definition so that the loop occurs over the tuple <code>args</code>.</li>\n"
      ],
      "metadata": {
        "id": "grB3QN5OgJoJ"
      }
    },
    {
      "cell_type": "code",
      "execution_count": null,
      "metadata": {
        "id": "80b2S_XdefmL"
      },
      "outputs": [],
      "source": [
        "# Define count_entries()\n",
        "def count_entries(df, *args):\n",
        "    \"\"\"Return a dictionary with counts of\n",
        "    occurrences as value for each key.\"\"\"\n",
        "    \n",
        "    #Initialize an empty dictionary: cols_count\n",
        "    cols_count = {}\n",
        "    \n",
        "    # Iterate over column names in args\n",
        "    for col_name in args:\n",
        "    \n",
        "        # Extract column from DataFrame: col\n",
        "        col = df[col_name]\n",
        "    \n",
        "        # Iterate over the column in DataFrame\n",
        "        for entry in col:\n",
        "    \n",
        "            # If entry is in cols_count, add 1\n",
        "            if entry in cols_count.keys():\n",
        "                cols_count[entry] += 1\n",
        "    \n",
        "            # Else add the entry to cols_count, set the value to 1\n",
        "            else:\n",
        "                cols_count[entry] = 1\n",
        "\n",
        "    # Return the cols_count dictionary\n",
        "    return cols_count\n"
      ]
    },
    {
      "cell_type": "markdown",
      "metadata": {
        "id": "cbyT2kVkefmL"
      },
      "source": [
        "<li>Call <code>count_entries()</code> by passing the <code>tweets_df</code> DataFrame and the column name <code>'lang'</code>. Assign the result to <code>result1</code>.</li>\n"
      ]
    },
    {
      "cell_type": "code",
      "execution_count": null,
      "metadata": {
        "id": "0NKbboW7efmL"
      },
      "outputs": [],
      "source": [
        "# Call count_entries(): result1\n",
        "result1 = count_entries(tweets_df, 'lang')\n"
      ]
    },
    {
      "cell_type": "markdown",
      "metadata": {
        "id": "wnySkNIfefmL"
      },
      "source": [
        "<li>Call <code>count_entries()</code> by passing the <code>tweets_df</code> DataFrame and the column names <code>'lang'</code> and <code>'source'</code>. Assign the result to <code>result2</code>.</li>\n"
      ]
    },
    {
      "cell_type": "code",
      "execution_count": null,
      "metadata": {
        "colab": {
          "base_uri": "https://localhost:8080/"
        },
        "id": "ajUXjTHpefmL",
        "outputId": "4cafec7d-f26c-4b7d-fa04-dc81833015a6"
      },
      "outputs": [
        {
          "output_type": "stream",
          "name": "stdout",
          "text": [
            "{'en': 97, 'et': 1, 'und': 2}\n",
            "{'en': 97, 'et': 1, 'und': 2, '<a href=\"http://twitter.com\" rel=\"nofollow\">Twitter Web Client</a>': 24, '<a href=\"http://www.facebook.com/twitter\" rel=\"nofollow\">Facebook</a>': 1, '<a href=\"http://twitter.com/download/android\" rel=\"nofollow\">Twitter for Android</a>': 26, '<a href=\"http://twitter.com/download/iphone\" rel=\"nofollow\">Twitter for iPhone</a>': 33, '<a href=\"http://www.twitter.com\" rel=\"nofollow\">Twitter for BlackBerry</a>': 2, '<a href=\"http://www.google.com/\" rel=\"nofollow\">Google</a>': 2, '<a href=\"http://twitter.com/#!/download/ipad\" rel=\"nofollow\">Twitter for iPad</a>': 6, '<a href=\"http://linkis.com\" rel=\"nofollow\">Linkis.com</a>': 2, '<a href=\"http://rutracker.org/forum/viewforum.php?f=93\" rel=\"nofollow\">newzlasz</a>': 2, '<a href=\"http://ifttt.com\" rel=\"nofollow\">IFTTT</a>': 1, '<a href=\"http://www.myplume.com/\" rel=\"nofollow\">Plume\\xa0for\\xa0Android</a>': 1}\n"
          ]
        }
      ],
      "source": [
        "# Call count_entries(): result2\n",
        "result2 = count_entries(tweets_df, 'lang', 'source')\n",
        "\n",
        "# Print result1 and result2\n",
        "print(result1)\n",
        "print(result2)\n"
      ]
    },
    {
      "cell_type": "markdown",
      "metadata": {
        "id": "ijNPqnufefmL"
      },
      "source": [
        "<p class=\"\">Great work!</p>\n",
        "\n"
      ]
    },
    {
      "cell_type": "markdown",
      "source": [
        "# Lambda functions and error-handling\n",
        "\n",
        "<p class=\"chapter__description\">\n",
        "    Learn about lambda functions, which allow you to write functions quickly and on the fly. You'll also practice handling errors in your functions, which is an essential skill. Then, apply your new skills to answer data science questions.\n",
        "  </p>\n",
        "  \n"
      ],
      "metadata": {
        "id": "O6LAvL28gK29"
      }
    },
    {
      "cell_type": "markdown",
      "source": [
        "## Lambda functions\n",
        "\n",
        "\n",
        "\n"
      ],
      "metadata": {
        "id": "eNXqbRBlgL6b"
      }
    },
    {
      "cell_type": "markdown",
      "source": [
        "### Pop quiz on lambda functions\n",
        "\n",
        "\n",
        "<div class>\n",
        "<p>In this exercise, you will practice writing a simple lambda function and calling this function. Recall what you know about lambda functions and answer the following questions:</p>\n",
        "<ul>\n",
        "<li>How would you write a lambda function <code>add_bangs</code> that adds three exclamation points <code>'!!!'</code> to the end of a string <code>a</code>? </li>\n",
        "<li>How would you call <code>add_bangs</code> with the argument <code>'hello'</code>?</li>\n",
        "</ul>\n",
        "<p>You may use the IPython shell to test your code.</p>\n",
        "</div>\n",
        "\n",
        "- [ ] The lambda function definition is: <code>add_bangs = (a + '!!!')</code>, and the function call is: <code>add_bangs('hello')</code>.\n",
        "- [x] The lambda function definition is: <code>add_bangs = (lambda a: a + '!!!')</code>, and the function call is: <code>add_bangs('hello')</code>.\n",
        "- [ ] The lambda function definition is: <code>(lambda a: a + '!!!') = add_bangs</code>, and the function call is: <code>add_bangs('hello')</code>.\n",
        "\n",
        "<p class=\"\">Correct!</p>\n",
        "\n"
      ],
      "metadata": {
        "id": "YZcW8N7YgM2f"
      }
    },
    {
      "cell_type": "markdown",
      "source": [
        "### Writing a lambda function you already know\n",
        "\n",
        "\n",
        "<div class>\n",
        "<p>Some function definitions are simple enough that they can be converted to a lambda function. By doing this, you write less lines of code, which is pretty awesome and will come in handy, especially when you're writing and maintaining big programs. In this exercise, you will use what you know about lambda functions to convert a function that does a simple task into a lambda function. Take a look at this function definition:</p>\n",
        "<pre><code>def echo_word(word1, echo):\n",
        "    \"\"\"Concatenate echo copies of word1.\"\"\"\n",
        "    words = word1 * echo\n",
        "    return words\n",
        "</code></pre>\n",
        "<p>The function <code>echo_word</code> takes 2 parameters: a string value, <code>word1</code> and an integer value, <code>echo</code>. It returns a string that is a concatenation of <code>echo</code> copies of <code>word1</code>. Your task is to convert this simple function into a lambda function.</p>\n",
        "</div>\n",
        "\n",
        "<li>Define the lambda function <code>echo_word</code> using the variables <code>word1</code> and <code>echo</code>. Replicate what the original function definition for <code>echo_word()</code> does above.</li>\n"
      ],
      "metadata": {
        "id": "tkuURgCXgN0L"
      }
    },
    {
      "cell_type": "code",
      "execution_count": null,
      "metadata": {
        "id": "MTtIwQhkefmL"
      },
      "outputs": [],
      "source": [
        "# Define echo_word as a lambda function: echo_word\n",
        "echo_word = (lambda word1, echo: word1 * echo)\n"
      ]
    },
    {
      "cell_type": "markdown",
      "metadata": {
        "id": "Cp6pH3WIefmM"
      },
      "source": [
        "<li>Call <code>echo_word()</code> with the string argument <code>'hey'</code> and the value <code>5</code>, in that order. Assign the call to <code>result</code>.</li>\n"
      ]
    },
    {
      "cell_type": "code",
      "execution_count": null,
      "metadata": {
        "colab": {
          "base_uri": "https://localhost:8080/"
        },
        "id": "0iceTobBefmM",
        "outputId": "684d44c7-c3ca-4110-f1f9-eeb29d15dc3e"
      },
      "outputs": [
        {
          "output_type": "stream",
          "name": "stdout",
          "text": [
            "heyheyheyheyhey\n"
          ]
        }
      ],
      "source": [
        "# Call echo_word: result\n",
        "result = echo_word('hey', 5)\n",
        "\n",
        "# Print result\n",
        "print(result)\n"
      ]
    },
    {
      "cell_type": "markdown",
      "metadata": {
        "id": "GTSuYJCAefmM"
      },
      "source": [
        "<p class=\"\">Great work!</p>\n",
        "\n"
      ]
    },
    {
      "cell_type": "markdown",
      "source": [
        "### Map() and lambda functions\n",
        "\n",
        "\n",
        "<div class>\n",
        "<p>So far, you've used lambda functions to write short, simple functions as well as to redefine functions with simple functionality. The best use case for lambda functions, however, are for when you want these simple functionalities to be anonymously embedded within larger expressions. What that means is that the functionality is not stored in the environment, unlike a function defined with <code>def</code>. To understand this idea better, you will use a lambda function in the context of the <code>map()</code> function.</p>\n",
        "<p>Recall from the video that <code>map()</code> applies a function over an object, such as a list. Here, you can use lambda functions to define the function that <code>map()</code> will use to process the object. For example:</p>\n",
        "<pre><code>nums = [2, 4, 6, 8, 10]\n",
        "\n",
        "result = map(lambda a: a ** 2, nums)\n",
        "</code></pre>\n",
        "<p>You can see here that a lambda function, which raises a value <code>a</code> to the power of 2, is passed to <code>map()</code> alongside a list of numbers, <code>nums</code>. The <em>map object</em> that results from the call to <code>map()</code> is stored in <code>result</code>. You will now practice the use of lambda functions with <code>map()</code>. For this exercise, you will map the functionality of the <code>add_bangs()</code> function you defined in previous exercises over a list of strings.</p>\n",
        "</div>\n",
        "\n",
        "<li>In the <code>map()</code> call, pass a lambda function that concatenates the string <code>'!!!'</code> to a string <code>item</code>; also pass the list of strings, <code>spells</code>. Assign the resulting map object to <code>shout_spells</code>.</li>\n"
      ],
      "metadata": {
        "id": "NaXU8VnhgPFW"
      }
    },
    {
      "cell_type": "code",
      "execution_count": null,
      "metadata": {
        "id": "QGy4Rb4jefmM"
      },
      "outputs": [],
      "source": [
        "# Create a list of strings: spells\n",
        "spells = ['protego', 'accio', 'expecto patronum', 'legilimens']\n",
        "\n",
        "# Use map() to apply a lambda function over spells: shout_spells\n",
        "shout_spells = map(lambda item: item + '!!!', spells)\n"
      ]
    },
    {
      "cell_type": "markdown",
      "metadata": {
        "id": "Ke9ruPJwefmM"
      },
      "source": [
        "<li>Convert <code>shout_spells</code> to a list and print out the list.</li>\n"
      ]
    },
    {
      "cell_type": "code",
      "execution_count": null,
      "metadata": {
        "colab": {
          "base_uri": "https://localhost:8080/"
        },
        "id": "Q_bkWZuLefmM",
        "outputId": "ccea1fd3-226f-4547-c2b7-d3833fea6aae"
      },
      "outputs": [
        {
          "output_type": "stream",
          "name": "stdout",
          "text": [
            "['protego!!!', 'accio!!!', 'expecto patronum!!!', 'legilimens!!!']\n"
          ]
        }
      ],
      "source": [
        "# Convert shout_spells to a list: shout_spells_list\n",
        "shout_spells_list = list(shout_spells)\n",
        "\n",
        "# Print the result\n",
        "print(shout_spells_list)\n"
      ]
    },
    {
      "cell_type": "markdown",
      "metadata": {
        "id": "k8sq9W8eefmM"
      },
      "source": [
        "<p class=\"\">Great work!</p>\n",
        "\n"
      ]
    },
    {
      "cell_type": "markdown",
      "source": [
        "### Filter() and lambda functions\n",
        "\n",
        "\n",
        "<div class>\n",
        "<p>In the previous exercise, you used lambda functions to anonymously embed an operation within <code>map()</code>. You will practice this again in this exercise by using a lambda function with <code>filter()</code>, which may be new to you! The function <code>filter()</code> offers a way to filter out elements from a list that don't satisfy certain criteria.</p>\n",
        "<p>Your goal in this exercise is to use <code>filter()</code> to create, from an input list of strings, a new list that contains only strings that have more than 6 characters.</p>\n",
        "</div>\n",
        "\n",
        "<li>In the <code>filter()</code> call, pass a lambda function and the list of strings, <code>fellowship</code>. The lambda function should check if the number of characters in a string <code>member</code> is greater than 6; use the <code>len()</code> function to do this. Assign the resulting filter object to <code>result</code>.</li>\n"
      ],
      "metadata": {
        "id": "KzWc4IHvgQZD"
      }
    },
    {
      "cell_type": "code",
      "execution_count": null,
      "metadata": {
        "id": "_xcrf-1WefmM"
      },
      "outputs": [],
      "source": [
        "# Create a list of strings: fellowship\n",
        "fellowship = ['frodo', 'samwise', 'merry', 'pippin', 'aragorn', 'boromir', 'legolas', 'gimli', 'gandalf']\n",
        "\n",
        "# Use filter() to apply a lambda function over fellowship: result\n",
        "result = filter(lambda member: len(member) > 6, fellowship)\n"
      ]
    },
    {
      "cell_type": "markdown",
      "metadata": {
        "id": "Ls99ayodefmM"
      },
      "source": [
        "<li>Convert <code>result</code> to a list and print out the list.</li>\n"
      ]
    },
    {
      "cell_type": "code",
      "execution_count": null,
      "metadata": {
        "colab": {
          "base_uri": "https://localhost:8080/"
        },
        "id": "di9z86caefmN",
        "outputId": "8fd98359-0614-4b89-9613-9f9746863aa6"
      },
      "outputs": [
        {
          "output_type": "stream",
          "name": "stdout",
          "text": [
            "['samwise', 'aragorn', 'boromir', 'legolas', 'gandalf']\n"
          ]
        }
      ],
      "source": [
        "# Convert result to a list: result_list\n",
        "result_list = list(result)\n",
        "\n",
        "# Print result_list\n",
        "print(result_list)\n"
      ]
    },
    {
      "cell_type": "markdown",
      "metadata": {
        "id": "VSy1DbFPefmN"
      },
      "source": [
        "<p class=\"\">Great work!</p>\n",
        "\n"
      ]
    },
    {
      "cell_type": "markdown",
      "source": [
        "### Reduce() and lambda functions\n",
        "\n",
        "\n",
        "<div class>\n",
        "<p>You're getting very good at using lambda functions! Here's one more function to add to your repertoire of skills. The <code>reduce()</code> function is useful for performing some computation on a list and, unlike <code>map()</code> and <code>filter()</code>, returns a single value as a result. To use <code>reduce()</code>, you must import it from the <code>functools</code> module.</p>\n",
        "<p>Remember <code>gibberish()</code> from a few exercises back?</p>\n",
        "<pre><code># Define gibberish\n",
        "def gibberish(*args):\n",
        "    \"\"\"Concatenate strings in *args together.\"\"\"\n",
        "    hodgepodge = ''\n",
        "    for word in args:\n",
        "        hodgepodge += word\n",
        "    return hodgepodge\n",
        "</code></pre>\n",
        "<p><code>gibberish()</code> simply takes a list of strings as an argument and returns, as a single-value result, the concatenation of all of these strings. In this exercise, you will replicate this functionality by using <code>reduce()</code> and a lambda function that concatenates strings together.</p>\n",
        "</div>\n",
        "\n",
        "<li>Import the <code>reduce</code> function from the <code>functools</code> module.</li>\n"
      ],
      "metadata": {
        "id": "-7TuCzxQgRmy"
      }
    },
    {
      "cell_type": "code",
      "execution_count": null,
      "metadata": {
        "id": "xOsQqlGiefmN"
      },
      "outputs": [],
      "source": [
        "# Import reduce from functools\n",
        "from functools import reduce\n"
      ]
    },
    {
      "cell_type": "markdown",
      "metadata": {
        "id": "ZXI06iEXefmN"
      },
      "source": [
        "<li>In the <code>reduce()</code> call, pass a lambda function that takes two string arguments <code>item1</code> and <code>item2</code> and concatenates them; also pass the list of strings, <code>stark</code>. Assign the result to <code>result</code>. The first argument to <code>reduce()</code> should be the lambda function and the second argument is the list <code>stark</code>.</li>\n"
      ]
    },
    {
      "cell_type": "code",
      "execution_count": null,
      "metadata": {
        "colab": {
          "base_uri": "https://localhost:8080/"
        },
        "id": "N-oV6zVKefmN",
        "outputId": "11c67996-20d5-44a3-e206-60a13e3671b9"
      },
      "outputs": [
        {
          "output_type": "stream",
          "name": "stdout",
          "text": [
            "robbsansaaryabrandonrickon\n"
          ]
        }
      ],
      "source": [
        "# Create a list of strings: stark\n",
        "stark = ['robb', 'sansa', 'arya', 'brandon', 'rickon']\n",
        "\n",
        "# Use reduce() to apply a lambda function over stark: result\n",
        "result = reduce(lambda item1, item2: item1 + item2, stark)\n",
        "\n",
        "# Print the result\n",
        "print(result)\n"
      ]
    },
    {
      "cell_type": "markdown",
      "metadata": {
        "id": "zM5lwd5TefmN"
      },
      "source": [
        "<p class=\"\">Great work!</p>\n",
        "\n"
      ]
    },
    {
      "cell_type": "markdown",
      "source": [
        "## Introduction to error handling\n",
        "\n",
        "\n",
        "\n"
      ],
      "metadata": {
        "id": "A3TMNqpagTBp"
      }
    },
    {
      "cell_type": "markdown",
      "source": [
        "### Pop quiz about errors\n",
        "\n",
        "\n",
        "<div class>\n",
        "<p>In the video, Hugo talked about how errors happen when functions are supplied arguments that they are unable to work with. In this exercise, you will identify which function call raises an error and what type of error is raised.</p>\n",
        "<p>Take a look at the following function calls to <code>len()</code>:</p>\n",
        "<pre><code>len('There is a beast in every man and it stirs when you put a sword in his hand.')\n",
        "\n",
        "len(['robb', 'sansa', 'arya', 'eddard', 'jon'])\n",
        "\n",
        "len(525600)\n",
        "\n",
        "len(('jaime', 'cersei', 'tywin', 'tyrion', 'joffrey'))\n",
        "</code></pre>\n",
        "<p>Which of the function calls raises an error and what type of error is raised?</p>\n",
        "</div>\n",
        "\n",
        "- [ ] The call <code>len('There is a beast in every man and it stirs when you put a sword in his hand.')</code> raises a <code>TypeError</code>.\n",
        "- [ ] The call <code>len(['robb', 'sansa', 'arya', 'eddard', 'jon'])</code> raises an <code>IndexError</code>.\n",
        "- [x] The call <code>len(525600)</code> raises a <code>TypeError</code>.\n",
        "- [ ] The call <code>len(('jaime', 'cersei', 'tywin', 'tyrion', 'joffrey'))</code> raises a <code>NameError</code>.\n",
        "\n",
        "<p class=\"\">Correct!</p>\n",
        "\n"
      ],
      "metadata": {
        "id": "5iy-M53ngUjX"
      }
    },
    {
      "cell_type": "markdown",
      "source": [
        "### Error handling with try-except\n",
        "\n",
        "\n",
        "<div class>\n",
        "<p>A good practice in writing your own functions is also anticipating the ways in which other people (or yourself, if you accidentally misuse your own function) might use the function you defined. </p>\n",
        "<p>As in the previous exercise, you saw that the <code>len()</code> function is able to handle input arguments such as strings, lists, and tuples, but not int type ones and raises an appropriate error and error message when it encounters invalid input arguments. One way of doing this is through exception handling with the <code>try-except</code> block. </p>\n",
        "<p>In this exercise, you will define a function as well as use a <code>try-except</code> block for handling cases when incorrect input arguments are passed to the function.</p>\n",
        "<p>Recall the <code>shout_echo()</code> function you defined in previous exercises; parts of the function definition are provided in the sample code. Your goal is to complete the exception handling code in the function definition and provide an appropriate error message when raising an error.</p>\n",
        "</div>\n",
        "\n",
        "<li>Initialize the variables <code>echo_word</code> and <code>shout_words</code> to empty strings.</li>\n",
        "<li>Add the keywords <code>try</code> and <code>except</code> in the appropriate locations for the exception handling block.</li>\n",
        "<li>Use the <code>*</code> operator to concatenate <code>echo</code> copies of <code>word1</code>. Assign the result to <code>echo_word</code>.</li>\n",
        "<li>Concatenate the string <code>'!!!'</code> to <code>echo_word</code>. Assign the result to <code>shout_words</code>.</li>\n"
      ],
      "metadata": {
        "id": "OI8_QyShgV7S"
      }
    },
    {
      "cell_type": "code",
      "execution_count": null,
      "metadata": {
        "colab": {
          "base_uri": "https://localhost:8080/",
          "height": 73
        },
        "id": "tiL_CYHjefmN",
        "outputId": "91bcb815-9e6b-472f-bc76-4fa1f6cf991a"
      },
      "outputs": [
        {
          "output_type": "stream",
          "name": "stdout",
          "text": [
            "word1 must be a string and echo must be an integer.\n"
          ]
        },
        {
          "output_type": "execute_result",
          "data": {
            "text/plain": [
              "''"
            ],
            "application/vnd.google.colaboratory.intrinsic+json": {
              "type": "string"
            }
          },
          "metadata": {},
          "execution_count": 60
        }
      ],
      "source": [
        "# Define shout_echo\n",
        "def shout_echo(word1, echo=1):\n",
        "    \"\"\"Concatenate echo copies of word1 and three\n",
        "    exclamation marks at the end of the string.\"\"\"\n",
        "\n",
        "    # Initialize empty strings: echo_word, shout_words\n",
        "    echo_word = ''\n",
        "    shout_words = ''\n",
        "\n",
        "    # Add exception handling with try-except\n",
        "    try:\n",
        "        # Concatenate echo copies of word1 using *: echo_word\n",
        "        echo_word = word1 * echo\n",
        "\n",
        "        # Concatenate '!!!' to echo_word: shout_words\n",
        "        shout_words = echo_word + '!!!'\n",
        "    except:\n",
        "        # Print error message\n",
        "        print(\"word1 must be a string and echo must be an integer.\")\n",
        "\n",
        "    # Return shout_words\n",
        "    return shout_words\n",
        "\n",
        "# Call shout_echo\n",
        "shout_echo(\"particle\", echo=\"accelerator\")\n"
      ]
    },
    {
      "cell_type": "markdown",
      "metadata": {
        "id": "X_iCzeRXefmN"
      },
      "source": [
        "<p class=\"\">Great work!</p>\n",
        "\n"
      ]
    },
    {
      "cell_type": "markdown",
      "source": [
        "### Error handling by raising an error\n",
        "\n",
        "\n",
        "<div class>\n",
        "<p>Another way to raise an error is by using <code>raise</code>. In this exercise, you will add a <code>raise</code> statement to the <code>shout_echo()</code> function you defined before to raise an error message when the value supplied by the user to the <code>echo</code> argument is less than 0.</p>\n",
        "<p>The call to <code>shout_echo()</code> uses valid argument values. To test and see how the <code>raise</code> statement works, simply change the value for the <code>echo</code> argument to a <em>negative</em> value. Don't forget to change it back to valid values to move on to the next exercise!</p>\n",
        "</div>\n",
        "\n",
        "<li>Complete the <code>if</code> statement by checking if the value of <code>echo</code> is <em>less than</em> 0.</li>\n",
        "<li>In the body of the <code>if</code> statement, add a <code>raise</code> statement that raises a <code>ValueError</code> with message <code>'echo must be greater than or equal to 0'</code> when the value supplied by the user to <code>echo</code> is less than 0.</li>\n"
      ],
      "metadata": {
        "id": "6De9BWU3gXho"
      }
    },
    {
      "cell_type": "code",
      "execution_count": null,
      "metadata": {
        "colab": {
          "base_uri": "https://localhost:8080/",
          "height": 53
        },
        "id": "r7fVndXyefmO",
        "outputId": "d6f3bd92-2910-43e4-dcbc-1909910cf7e2"
      },
      "outputs": [
        {
          "output_type": "execute_result",
          "data": {
            "text/plain": [
              "'particleparticleparticleparticleparticle!!!'"
            ],
            "application/vnd.google.colaboratory.intrinsic+json": {
              "type": "string"
            }
          },
          "metadata": {},
          "execution_count": 61
        }
      ],
      "source": [
        "# Define shout_echo\n",
        "def shout_echo(word1, echo=1):\n",
        "    \"\"\"Concatenate echo copies of word1 and three\n",
        "    exclamation marks at the end of the string.\"\"\"\n",
        "\n",
        "    # Raise an error with raise\n",
        "    if echo < 0:\n",
        "        raise ValueError('echo must be greater than or equal to 0')\n",
        "\n",
        "    # Concatenate echo copies of word1 using *: echo_word\n",
        "    echo_word = word1 * echo\n",
        "\n",
        "    # Concatenate '!!!' to echo_word: shout_word\n",
        "    shout_word = echo_word + '!!!'\n",
        "\n",
        "    # Return shout_word\n",
        "    return shout_word\n",
        "\n",
        "# Call shout_echo\n",
        "shout_echo(\"particle\", echo=5)\n"
      ]
    },
    {
      "cell_type": "markdown",
      "metadata": {
        "id": "mDg-9JjkefmO"
      },
      "source": [
        "<p class=\"\">Great work!</p>\n",
        "\n"
      ]
    },
    {
      "cell_type": "markdown",
      "source": [
        "## Bringing it all together\n",
        "\n",
        "\n",
        "\n"
      ],
      "metadata": {
        "id": "ULuBtXHjgYqZ"
      }
    },
    {
      "cell_type": "markdown",
      "source": [
        "### Bringing it all together (1)\n",
        "\n",
        "\n",
        "<div class>\n",
        "<p>This is awesome! You have now learned how to write anonymous functions using <code>lambda</code>, how to pass lambda functions as arguments to other functions such as <code>map()</code>, <code>filter()</code>, and <code>reduce()</code>, as well as how to write errors and output custom error messages within your functions. You will now put together these learnings to good use by working with a Twitter dataset. Before practicing your new error handling skills; in this exercise, you will write a lambda function and use <code>filter()</code> to select retweets, that is, tweets that begin with the string <code>'RT'</code>.</p>\n",
        "<p>To help you accomplish this, the Twitter data has been imported into the DataFrame, <code>tweets_df</code>. Go for it!</p>\n",
        "</div>\n",
        "\n",
        "<li>In the <code>filter()</code> call, pass a lambda function and the sequence of tweets as strings, <code>tweets_df['text']</code>. The lambda function should check if the first 2 characters in a tweet <code>x</code> are 'RT'. Assign the resulting filter object to <code>result</code>.  To get the first 2 characters in a tweet <code>x</code>, use <code>x[0:2]</code>. To check equality, use a Boolean filter with <code>==</code>.</li>\n"
      ],
      "metadata": {
        "id": "jXxgyNvDgZO8"
      }
    },
    {
      "cell_type": "code",
      "execution_count": null,
      "metadata": {
        "id": "N2PQa0UVefmO"
      },
      "outputs": [],
      "source": [
        "# Select retweets from the Twitter DataFrame: result\n",
        "result = filter(lambda x: x[0:2] == 'RT', tweets_df['text'])\n"
      ]
    },
    {
      "cell_type": "markdown",
      "metadata": {
        "id": "gUz9K0VlefmO"
      },
      "source": [
        "<li>Convert <code>result</code> to a list and print out the list.</li>\n"
      ]
    },
    {
      "cell_type": "code",
      "execution_count": null,
      "metadata": {
        "colab": {
          "base_uri": "https://localhost:8080/"
        },
        "id": "uZZvHjSvefmO",
        "outputId": "177e3bc6-85b3-4c4d-fecc-279b412cb26f"
      },
      "outputs": [
        {
          "output_type": "stream",
          "name": "stdout",
          "text": [
            "RT @bpolitics: .@krollbondrating's Christopher Whalen says Clinton is the weakest Dem candidate in 50 years https://t.co/pLk7rvoRSn https:/…\n",
            "RT @HeidiAlpine: @dmartosko Cruz video found.....racing from the scene.... #cruzsexscandal https://t.co/zuAPZfQDk3\n",
            "RT @AlanLohner: The anti-American D.C. elites despise Trump for his America-first foreign policy. Trump threatens their gravy train. https:…\n",
            "RT @BIackPplTweets: Young Donald trump meets his neighbor  https://t.co/RFlu17Z1eE\n",
            "RT @trumpresearch: @WaitingInBagdad @thehill Trump supporters have selective amnisia.\n",
            "RT @HouseCracka: 29,000+ PEOPLE WATCHING TRUMP LIVE ON ONE STREAM!!!\n",
            "\n",
            "https://t.co/7QCFz9ehNe\n",
            "RT @urfavandtrump: RT for Brendon Urie\n",
            "Fav for Donald Trump https://t.co/PZ5vS94lOg\n",
            "RT @trapgrampa: This is how I see #Trump every time he speaks. https://t.co/fYSiHNS0nT\n",
            "RT @trumpresearch: @WaitingInBagdad @thehill Trump supporters have selective amnisia.\n",
            "RT @Pjw20161951: NO KIDDING: #SleazyDonald just attacked Scott Walker for NOT RAISING TAXES in WI! #LyinTrump\n",
            "#NeverTrump  #CruzCrew  https…\n",
            "RT @urfavandtrump: RT for Brendon Urie\n",
            "Fav for Donald Trump https://t.co/PZ5vS94lOg\n",
            "RT @ggreenwald: The media spent all day claiming @SusanSarandon said she might vote for Trump. A total fabrication, but whatever... https:/…\n",
            "RT @Pjw20161951: NO KIDDING: #SleazyDonald just attacked Scott Walker for NOT RAISING TAXES in WI! #LyinTrump\n",
            "#NeverTrump  #CruzCrew  https…\n",
            "RT @trapgrampa: This is how I see #Trump every time he speaks. https://t.co/fYSiHNS0nT\n",
            "RT @mitchellvii: So let me get this straight.  Any reporter can assault Mr Trump at any time and Corey can do nothing?  Michelle is clearly…\n",
            "RT @paulbenedict7: How #Trump Sacks RINO Strongholds by Hitting Positions Held by Dems and GOP https://t.co/D7ulnAJhis   #tcot #PJNET https…\n",
            "RT @DRUDGE_REPORT: VIDEO:  Trump emotional moment with Former Miss Wisconsin who has terminal illness... https://t.co/qt06aG9inT\n",
            "RT @ggreenwald: The media spent all day claiming @SusanSarandon said she might vote for Trump. A total fabrication, but whatever... https:/…\n",
            "RT @DennisApgar: Thank God I seen Trump at first stop in Wisconsin media doesn't know how great he is, advice watch live streaming https://…\n",
            "RT @paulbenedict7: How #Trump Sacks RINO Strongholds by Hitting Positions Held by Dems and GOP https://t.co/D7ulnAJhis   #tcot #PJNET https…\n",
            "RT @DRUDGE_REPORT: VIDEO:  Trump emotional moment with Former Miss Wisconsin who has terminal illness... https://t.co/qt06aG9inT\n",
            "RT @DennisApgar: Thank God I seen Trump at first stop in Wisconsin media doesn't know how great he is, advice watch live streaming https://…\n",
            "RT @mitchellvii: So let me get this straight.  Any reporter can assault Mr Trump at any time and Corey can do nothing?  Michelle is clearly…\n",
            "RT @sciam: Trump's idiosyncratic patterns of speech are why people tend either to love or hate him https://t.co/QXwquVgs3c https://t.co/P9N…\n",
            "RT @Norsu2: Nightmare WI poll for Ted Cruz has Kasich surging: Trump 29, Kasich 27, Cruz 25. https://t.co/lJsgbLYY1P #NeverTrump\n",
            "RT @thehill: WATCH: Protester pepper-sprayed point blank at Trump rally https://t.co/B5f65Al9ld https://t.co/skAfByXuQc\n",
            "RT @sciam: Trump's idiosyncratic patterns of speech are why people tend either to love or hate him https://t.co/QXwquVgs3c https://t.co/P9N…\n",
            "RT @ggreenwald: The media spent all day claiming @SusanSarandon said she might vote for Trump. A total fabrication, but whatever... https:/…\n",
            "RT @DebbieStout5: Wow! Last I checked it was just 12 points &amp; that wasn't more than a day ago. Oh boy Trump ppl might want to rethink🤔 http…\n",
            "RT @tyleroakley: i'm a messy bitch, but at least i'm not voting for trump\n",
            "RT @vandives: Trump supporters r tired of justice NOT being served. There's no justice anymore. Hardworking Americans get screwed. That's n…\n",
            "RT @AP: BREAKING: Trump vows to stand by campaign manager charged with battery, says he does not discard people.\n",
            "RT @AP: BREAKING: Trump vows to stand by campaign manager charged with battery, says he does not discard people.\n",
            "RT @urfavandtrump: RT for Jerrie (Little Mix)\n",
            "Fav for Donald Trump https://t.co/nEVxElW6iG\n",
            "RT @urfavandtrump: RT for Jerrie (Little Mix)\n",
            "Fav for Donald Trump https://t.co/nEVxElW6iG\n",
            "RT @NoahCRothman: When Walker was fighting for reforms, Trump was defending unions and collective bargaining privileges https://t.co/e1UWNN…\n",
            "RT @RedheadAndRight: Report: Secret Service Says Michelle Fields Touched Trump https://t.co/c5c2sD8VO2\n",
            "\n",
            "This is the only article you will n…\n",
            "RT @AIIAmericanGirI: VIDEO=&gt; Anti-Trump Protester SLUGS Elderly Trump Supporter in the Face\n",
            "https://t.co/GeEryMDuDY\n",
            "RT @NoahCRothman: When Walker was fighting for reforms, Trump was defending unions and collective bargaining privileges https://t.co/e1UWNN…\n",
            "RT @JusticeRanger1: @realDonaldTrump @Pudingtane @DanScavino @GOP @infowars @EricTrump \n",
            "URGENT PUBLIC TRUMP ALERT:\n",
            "COVERT KILL MEANS https:…\n",
            "RT @AIIAmericanGirI: VIDEO=&gt; Anti-Trump Protester SLUGS Elderly Trump Supporter in the Face\n",
            "https://t.co/GeEryMDuDY\n",
            "RT @RedheadAndRight: Report: Secret Service Says Michelle Fields Touched Trump https://t.co/c5c2sD8VO2\n",
            "\n",
            "This is the only article you will n…\n",
            "RT @JusticeRanger1: @realDonaldTrump @Pudingtane @DanScavino @GOP @infowars @EricTrump \n",
            "URGENT PUBLIC TRUMP ALERT:\n",
            "COVERT KILL MEANS https:…\n",
            "RT @Schneider_CM: Trump says nobody had ever heard of executive orders before Obama started signing them. Never heard of the Emancipation P…\n",
            "RT @RonBasler1: @DavidWhitDennis @realDonaldTrump @tedcruz \n",
            "\n",
            "CRUZ SCREWS HOOKERS\n",
            "\n",
            "CRUZ / CLINTON\n",
            "RT @DonaldsAngel: Former Ms. WI just said that she is terminally ill but because of Trump pageant, her 7 yr. old son has his college educat…\n",
            "RT @Schneider_CM: Trump says nobody had ever heard of executive orders before Obama started signing them. Never heard of the Emancipation P…\n",
            "RT @DonaldsAngel: Former Ms. WI just said that she is terminally ill but because of Trump pageant, her 7 yr. old son has his college educat…\n",
            "RT @Dodarey: @DR8801 @SykesCharlie Charlie, let's see you get a straight \"yes\" or \"no\" answer from Cruz a/b being unfaithful to his wife @T…\n",
            "RT @RonBasler1: @DavidWhitDennis @realDonaldTrump @tedcruz \n",
            "\n",
            "CRUZ SCREWS HOOKERS\n",
            "\n",
            "CRUZ / CLINTON\n",
            "RT @RockCliffOne: Remember when the idea of a diabolical moron holding the world hostage was an idea for a funny movie? #Trump #GOP https:/…\n",
            "RT @HillaryClinton: \"Every day, another Republican bemoans the rise of Donald Trump... but [he] didn’t come out of nowhere.\" —Hillary\n",
            "https…\n",
            "RT @Dodarey: @DR8801 @SykesCharlie Charlie, let's see you get a straight \"yes\" or \"no\" answer from Cruz a/b being unfaithful to his wife @T…\n",
            "RT @HillaryClinton: \"Every day, another Republican bemoans the rise of Donald Trump... but [he] didn’t come out of nowhere.\" —Hillary\n",
            "https…\n",
            "RT @RockCliffOne: Remember when the idea of a diabolical moron holding the world hostage was an idea for a funny movie? #Trump #GOP https:/…\n",
            "RT @immigrant4trump: @immigrant4trump msm, cable news attacking trump all day, from 8am to 10pm today, then the reruns come on, repeating t…\n",
            "RT @immigrant4trump: @immigrant4trump msm, cable news attacking trump all day, from 8am to 10pm today, then the reruns come on, repeating t…\n",
            "RT @GlendaJazzey: Donald Trump’s Campaign Financing Dodge, @rrotunda https://t.co/L8flI4lswG via @VerdictJustia\n",
            "RT @TUSK81: LOUDER FOR THE PEOPLE IN THE BACK https://t.co/hlPVyNLXzx\n",
            "RT @loopzoop: Well...put it back https://t.co/8Yb7BDT5VM\n",
            "RT @claytoncubitt: Stop asking Bernie supporters if they’ll vote for Hillary against Trump. We got a plan to beat Trump already. Called Ber…\n",
            "RT @akaMaude13: Seriously can't make this up. What a joke. #NeverTrump  https://t.co/JkTx6mdRgC\n"
          ]
        }
      ],
      "source": [
        "# Create list from filter object result: res_list\n",
        "res_list = list(result)\n",
        "\n",
        "# Print all retweets in res_list\n",
        "for tweet in res_list:\n",
        "    print(tweet)\n"
      ]
    },
    {
      "cell_type": "markdown",
      "metadata": {
        "id": "atYcB8fsefmO"
      },
      "source": [
        "<p class=\"\">Great work!</p>\n",
        "\n"
      ]
    },
    {
      "cell_type": "markdown",
      "source": [
        "### Bringing it all together (2)\n",
        "\n",
        "\n",
        "<div class>\n",
        "<p>Sometimes, we make mistakes when calling functions - even ones <em>you</em> made yourself. But don't fret! In this exercise, you will improve on your previous work with the <code>count_entries()</code> function in the last chapter by adding a <code>try-except</code> block to it. This will allow your function to provide a helpful message when the user calls your <code>count_entries()</code> function but provides a column name that isn't in the DataFrame.</p>\n",
        "<p>Once again, for your convenience, <code>pandas</code> has been imported as <code>pd</code> and the <code>'tweets.csv'</code> file has been imported into the DataFrame <code>tweets_df</code>. Parts of the code from your previous work are also provided.</p>\n",
        "</div>\n",
        "\n",
        "<li>Add a <code>try</code> block so that when the function is called with the correct arguments, it processes the DataFrame and returns a dictionary of results.</li>\n",
        "<li>Add an <code>except</code> block so that when the function is called incorrectly, it displays the following error message: <code>'The DataFrame does not have a ' + col_name + ' column.'</code>.</li>\n"
      ],
      "metadata": {
        "id": "ziBMy91ega4b"
      }
    },
    {
      "cell_type": "code",
      "execution_count": null,
      "metadata": {
        "colab": {
          "base_uri": "https://localhost:8080/"
        },
        "id": "-4WnGyMfefmO",
        "outputId": "b1d9f782-13ac-4bc2-963e-3f0caefc6e5a"
      },
      "outputs": [
        {
          "output_type": "stream",
          "name": "stdout",
          "text": [
            "{'en': 97, 'et': 1, 'und': 2}\n"
          ]
        }
      ],
      "source": [
        "# Define count_entries()\n",
        "def count_entries(df, col_name='lang'):\n",
        "    \"\"\"Return a dictionary with counts of\n",
        "    occurrences as value for each key.\"\"\"\n",
        "\n",
        "    # Initialize an empty dictionary: cols_count\n",
        "    cols_count = {}\n",
        "\n",
        "    # Add try block\n",
        "    try: \n",
        "        # Extract column from DataFrame: col\n",
        "        col = df[col_name]\n",
        "        \n",
        "        # Iterate over the column in DataFrame\n",
        "        for entry in col:\n",
        "    \n",
        "            # If entry is in cols_count, add 1\n",
        "            if entry in cols_count.keys():\n",
        "                cols_count[entry] += 1\n",
        "            # Else add the entry to cols_count, set the value to 1\n",
        "            else:\n",
        "                cols_count[entry] = 1\n",
        "    \n",
        "        # Return the cols_count dictionary\n",
        "        return cols_count\n",
        "\n",
        "    # Add except block\n",
        "    except:\n",
        "        print('The DataFrame does not have a ' + col_name + ' column.')\n",
        "\n",
        "# Call count_entries(): result1\n",
        "result1 = count_entries(tweets_df, 'lang')\n",
        "\n",
        "# Print result1\n",
        "print(result1)\n"
      ]
    },
    {
      "cell_type": "markdown",
      "metadata": {
        "id": "1tn6ztCLefmP"
      },
      "source": [
        "<p class=\"\">Great work!</p>\n",
        "\n"
      ]
    },
    {
      "cell_type": "markdown",
      "source": [
        "### Bringing it all together (3)\n",
        "\n",
        "\n",
        "<div class>\n",
        "<p>In the previous exercise, you built on your function <code>count_entries()</code> to add a <code>try-except</code> block. This was so that users would get helpful messages when calling your <code>count_entries()</code> function and providing a column name that isn't in the DataFrame. In this exercise, you'll instead raise a <code>ValueError</code> in the case that the user provides a column name that isn't in the DataFrame.</p>\n",
        "<p>Once again, for your convenience, <code>pandas</code> has been imported as <code>pd</code> and the <code>'tweets.csv'</code> file has been imported into the DataFrame <code>tweets_df</code>. Parts of the code from your previous work are also provided.</p>\n",
        "</div>\n",
        "\n",
        "<li>If <code>col_name</code> is <em>not</em> a column in the DataFrame <code>df</code>, raise a <code>ValueError 'The DataFrame does not have a ' + col_name + ' column.'</code>.</li>\n"
      ],
      "metadata": {
        "id": "APRhiSZzgb_A"
      }
    },
    {
      "cell_type": "code",
      "execution_count": null,
      "metadata": {
        "id": "M3nk-H9jefmP"
      },
      "outputs": [],
      "source": [
        "# Define count_entries()\n",
        "def count_entries(df, col_name='lang'):\n",
        "    \"\"\"Return a dictionary with counts of\n",
        "    occurrences as value for each key.\"\"\"\n",
        "    \n",
        "    # Raise a ValueError if col_name is NOT in DataFrame\n",
        "    if col_name not in df.columns:\n",
        "        raise ValueError('The DataFrame does not have a ' + col_name + ' column.')\n",
        "\n",
        "    # Initialize an empty dictionary: cols_count\n",
        "    cols_count = {}\n",
        "    \n",
        "    # Extract column from DataFrame: col\n",
        "    col = df[col_name]\n",
        "    \n",
        "    # Iterate over the column in DataFrame\n",
        "    for entry in col:\n",
        "\n",
        "        # If entry is in cols_count, add 1\n",
        "        if entry in cols_count.keys():\n",
        "            cols_count[entry] += 1\n",
        "            # Else add the entry to cols_count, set the value to 1\n",
        "        else:\n",
        "            cols_count[entry] = 1\n",
        "        \n",
        "        # Return the cols_count dictionary\n",
        "    return cols_count\n"
      ]
    },
    {
      "cell_type": "markdown",
      "metadata": {
        "id": "tnnk4FI3efmP"
      },
      "source": [
        "<li>Call your new function <code>count_entries()</code> to analyze the <code>'lang'</code> column of <code>tweets_df</code>. Store the result in <code>result1</code>. </li>\n"
      ]
    },
    {
      "cell_type": "code",
      "execution_count": null,
      "metadata": {
        "id": "1KTxRjXeefmP"
      },
      "outputs": [],
      "source": [
        "# Call count_entries(): result1\n",
        "result1 = count_entries(tweets_df, 'lang')\n"
      ]
    },
    {
      "cell_type": "markdown",
      "metadata": {
        "id": "7uQQlgavefmP"
      },
      "source": [
        "<li>Print <code>result1</code>. This has been done for you, so hit 'Submit Answer' to check out the result. In the next exercise, you'll see that it raises the necessary <code>ValueErrors</code>.</li>\n"
      ]
    },
    {
      "cell_type": "code",
      "execution_count": null,
      "metadata": {
        "colab": {
          "base_uri": "https://localhost:8080/"
        },
        "id": "AJFn1r8fefmP",
        "outputId": "34dd5807-f489-472c-a0d0-da8aa618c80d"
      },
      "outputs": [
        {
          "output_type": "stream",
          "name": "stdout",
          "text": [
            "{'en': 97, 'et': 1, 'und': 2}\n"
          ]
        }
      ],
      "source": [
        "# Print result1\n",
        "print(result1)\n"
      ]
    },
    {
      "cell_type": "markdown",
      "metadata": {
        "id": "LA2J1-HvefmP"
      },
      "source": [
        "<p class=\"\">Great work!</p>\n",
        "\n"
      ]
    },
    {
      "cell_type": "markdown",
      "source": [
        "### Bringing it all together: testing your error handling skills\n",
        "\n",
        "\n",
        "<div class><p>You have just written error handling into your <code>count_entries()</code> function so that, when the user passes the function a column (as 2nd argument) NOT contained in the DataFrame (1st argument), a <code>ValueError</code> is thrown. You're now going to play with this function: it is loaded into pre-exercise code, as is the DataFrame <code>tweets_df</code>. Try calling <code>count_entries(tweets_df, 'lang')</code> to confirm that the function behaves as it should. Then call <code>count_entries(tweets_df, 'lang1')</code>: what is the last line of the output?</p></div>\n",
        "\n",
        "- [ ] 'ValueError: The DataFrame does not have the requested column.'\n",
        "- [x] 'ValueError: The DataFrame does not have a lang1 column.'\n",
        "- [ ] 'TypeError: The DataFrame does not have the requested column.'\n",
        "\n",
        "<p class=\"\">Correct!</p>\n"
      ],
      "metadata": {
        "id": "f7pVcnJ2gdX0"
      }
    }
  ],
  "metadata": {
    "anaconda-cloud": "",
    "kernelspec": {
      "display_name": "Python 3.8.13 ('r-reticulate')",
      "language": "python",
      "name": "python3"
    },
    "language_info": {
      "codemirror_mode": "r",
      "file_extension": ".r",
      "mimetype": "text/x-r-source",
      "name": "python",
      "pygments_lexer": "r",
      "version": "3.8.13"
    },
    "vscode": {
      "interpreter": {
        "hash": "5516b1134d36dc5eb8af4fea059c533cda43b57de0b6ee70334a647f3c4f8f68"
      }
    },
    "colab": {
      "provenance": [],
      "include_colab_link": true
    }
  },
  "nbformat": 4,
  "nbformat_minor": 0
}